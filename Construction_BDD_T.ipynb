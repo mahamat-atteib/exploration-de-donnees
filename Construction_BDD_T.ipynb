{
 "cells": [
  {
   "cell_type": "markdown",
   "id": "75f65084-6fac-4c7a-8e53-37b1f745766a",
   "metadata": {},
   "source": [
    "# <span style='color:Blue'> Etape de construction de la Base de Donnée T  </span>"
   ]
  },
  {
   "cell_type": "markdown",
   "id": "8a29f0ed-4956-450e-9186-7ad9e9559aa1",
   "metadata": {},
   "source": [
    "Le but de cette partie est de contruire une base de donnée (utile pour Projet_2.ipynb) de travail nommée \"T\". \n",
    "\n",
    "Les fichiers csv qui interviennent dans la construction de \"T\" sont : \"RAW_recipesnew.csv\", \"PP_recipes.csv\" et \"RAW_interactions.csv\"."
   ]
  },
  {
   "cell_type": "markdown",
   "id": "26105d28-0af1-4b5d-a606-f3b39dc29eec",
   "metadata": {},
   "source": [
    "## 1. Importation des librairies"
   ]
  },
  {
   "cell_type": "code",
   "execution_count": 71,
   "id": "83d71646-8d13-4bec-8c68-e16a03169607",
   "metadata": {},
   "outputs": [],
   "source": [
    "import pandas as pd\n",
    "import numpy as np\n",
    "import utiles     # On importe 'utiles.py' qui comporte toutes les fonctions utiles"
   ]
  },
  {
   "cell_type": "markdown",
   "id": "9fedb216-2065-4982-a7e2-6e6e993f0531",
   "metadata": {},
   "source": [
    "## 2. Importation de données"
   ]
  },
  {
   "cell_type": "markdown",
   "id": "31cb412e-36bb-4ec9-947c-e8986f5181e2",
   "metadata": {},
   "source": [
    "### Raw_interactions : Merci d'importer le fichier \"RAW_interactions.csv\" dans le répertoire afin d'éxecuter ce code."
   ]
  },
  {
   "cell_type": "markdown",
   "id": "1a0abb03-f7be-4909-8a6a-e37039dd81df",
   "metadata": {},
   "source": [
    "La base de donnée \"RAW_interactions\" comporte l'avis des utilisateurs sur les récettes. On y trouve les notes (rating) attribuées à ces recettes. On précise qu'une recette pourrait avoir plusieurs notes différentes. \n",
    "Ce qui fait qu'elle comporte 1 132 367 observations. De cette base de donnée, on va juste extraire la variable \"rating\"."
   ]
  },
  {
   "cell_type": "code",
   "execution_count": 72,
   "id": "512f49d3-0fb6-4df0-ba88-0f2113d100ec",
   "metadata": {},
   "outputs": [
    {
     "data": {
      "text/html": [
       "<div>\n",
       "<style scoped>\n",
       "    .dataframe tbody tr th:only-of-type {\n",
       "        vertical-align: middle;\n",
       "    }\n",
       "\n",
       "    .dataframe tbody tr th {\n",
       "        vertical-align: top;\n",
       "    }\n",
       "\n",
       "    .dataframe thead th {\n",
       "        text-align: right;\n",
       "    }\n",
       "</style>\n",
       "<table border=\"1\" class=\"dataframe\">\n",
       "  <thead>\n",
       "    <tr style=\"text-align: right;\">\n",
       "      <th></th>\n",
       "      <th>user_id</th>\n",
       "      <th>recipe_id</th>\n",
       "      <th>date</th>\n",
       "      <th>rating</th>\n",
       "      <th>review</th>\n",
       "    </tr>\n",
       "  </thead>\n",
       "  <tbody>\n",
       "    <tr>\n",
       "      <th>0</th>\n",
       "      <td>38094</td>\n",
       "      <td>40893</td>\n",
       "      <td>2003-02-17</td>\n",
       "      <td>4</td>\n",
       "      <td>Great with a salad. Cooked on top of stove for...</td>\n",
       "    </tr>\n",
       "    <tr>\n",
       "      <th>1</th>\n",
       "      <td>1293707</td>\n",
       "      <td>40893</td>\n",
       "      <td>2011-12-21</td>\n",
       "      <td>5</td>\n",
       "      <td>So simple, so delicious! Great for chilly fall...</td>\n",
       "    </tr>\n",
       "  </tbody>\n",
       "</table>\n",
       "</div>"
      ],
      "text/plain": [
       "   user_id  recipe_id        date  rating  \\\n",
       "0    38094      40893  2003-02-17       4   \n",
       "1  1293707      40893  2011-12-21       5   \n",
       "\n",
       "                                              review  \n",
       "0  Great with a salad. Cooked on top of stove for...  \n",
       "1  So simple, so delicious! Great for chilly fall...  "
      ]
     },
     "execution_count": 72,
     "metadata": {},
     "output_type": "execute_result"
    }
   ],
   "source": [
    "data1 = pd.read_csv(\"RAW_interactions.csv\")\n",
    "data1.head(2)"
   ]
  },
  {
   "cell_type": "code",
   "execution_count": 73,
   "id": "155e1149-50e7-4dd7-9897-9d6ec488eae6",
   "metadata": {},
   "outputs": [
    {
     "name": "stdout",
     "output_type": "stream",
     "text": [
      "Raw_interactions comporte 1132367 observations et 5 variables.\n"
     ]
    }
   ],
   "source": [
    "print(\"Raw_interactions comporte\", data1.shape[0], \"observations et\", data1.shape[1], \"variables.\")"
   ]
  },
  {
   "cell_type": "markdown",
   "id": "b95b3465-3562-489d-92c7-53d711a95294",
   "metadata": {},
   "source": [
    "### PP_recipes : Merci d'importer le fichier \"PP_recipes.csv\" dans le répertoire afin d'exécuter ce code"
   ]
  },
  {
   "cell_type": "markdown",
   "id": "425b863f-2960-4f64-bc27-9f67a7dcaee2",
   "metadata": {},
   "source": [
    "La base de donnée \"PP_recipes\" comporte les ingrédients des récettes tokénisés. \n",
    "De cette base de donnée, on va juste extraire la variable \"calorie_level\" pour la construction de notre base de donnée T."
   ]
  },
  {
   "cell_type": "code",
   "execution_count": 74,
   "id": "da0de386-f23c-42a5-a93f-4ca4eab2d0fb",
   "metadata": {},
   "outputs": [
    {
     "data": {
      "text/html": [
       "<div>\n",
       "<style scoped>\n",
       "    .dataframe tbody tr th:only-of-type {\n",
       "        vertical-align: middle;\n",
       "    }\n",
       "\n",
       "    .dataframe tbody tr th {\n",
       "        vertical-align: top;\n",
       "    }\n",
       "\n",
       "    .dataframe thead th {\n",
       "        text-align: right;\n",
       "    }\n",
       "</style>\n",
       "<table border=\"1\" class=\"dataframe\">\n",
       "  <thead>\n",
       "    <tr style=\"text-align: right;\">\n",
       "      <th></th>\n",
       "      <th>id</th>\n",
       "      <th>i</th>\n",
       "      <th>name_tokens</th>\n",
       "      <th>ingredient_tokens</th>\n",
       "      <th>steps_tokens</th>\n",
       "      <th>techniques</th>\n",
       "      <th>calorie_level</th>\n",
       "      <th>ingredient_ids</th>\n",
       "    </tr>\n",
       "  </thead>\n",
       "  <tbody>\n",
       "    <tr>\n",
       "      <th>0</th>\n",
       "      <td>424415</td>\n",
       "      <td>23</td>\n",
       "      <td>[40480, 37229, 2911, 1019, 249, 6878, 6878, 28...</td>\n",
       "      <td>[[2911, 1019, 249, 6878], [1353], [6953], [153...</td>\n",
       "      <td>[40480, 40482, 21662, 481, 6878, 500, 246, 161...</td>\n",
       "      <td>[0, 0, 0, 0, 0, 0, 0, 0, 0, 1, 0, 0, 0, 0, 0, ...</td>\n",
       "      <td>0</td>\n",
       "      <td>[389, 7655, 6270, 1527, 3406]</td>\n",
       "    </tr>\n",
       "  </tbody>\n",
       "</table>\n",
       "</div>"
      ],
      "text/plain": [
       "       id   i                                        name_tokens  \\\n",
       "0  424415  23  [40480, 37229, 2911, 1019, 249, 6878, 6878, 28...   \n",
       "\n",
       "                                   ingredient_tokens  \\\n",
       "0  [[2911, 1019, 249, 6878], [1353], [6953], [153...   \n",
       "\n",
       "                                        steps_tokens  \\\n",
       "0  [40480, 40482, 21662, 481, 6878, 500, 246, 161...   \n",
       "\n",
       "                                          techniques  calorie_level  \\\n",
       "0  [0, 0, 0, 0, 0, 0, 0, 0, 0, 1, 0, 0, 0, 0, 0, ...              0   \n",
       "\n",
       "                  ingredient_ids  \n",
       "0  [389, 7655, 6270, 1527, 3406]  "
      ]
     },
     "execution_count": 74,
     "metadata": {},
     "output_type": "execute_result"
    }
   ],
   "source": [
    "data2 = pd.read_csv(\"PP_recipes.csv\")\n",
    "data2.head(1)"
   ]
  },
  {
   "cell_type": "code",
   "execution_count": 75,
   "id": "e443b4af-d7d9-4e26-90ac-7586129d7cc4",
   "metadata": {},
   "outputs": [
    {
     "name": "stdout",
     "output_type": "stream",
     "text": [
      "PP_recipes comporte 178265 observations et 8 variables.\n"
     ]
    }
   ],
   "source": [
    "print(\"PP_recipes comporte\", data2.shape[0], \"observations et\", data2.shape[1], \"variables.\")"
   ]
  },
  {
   "cell_type": "markdown",
   "id": "c554d351-abc6-4271-8a20-a36f01cce031",
   "metadata": {},
   "source": [
    "### RAW_recipesnew"
   ]
  },
  {
   "cell_type": "markdown",
   "id": "ce7882da-49f7-4010-828f-879a6631fb37",
   "metadata": {},
   "source": [
    "La base de donnée \"RAW_recipesnew\" est extraite de la donnée \"RAW_recipes\" fournie. \"RAW_recipesnew\" ne comporte que les récettes dont le temps de cuisson (variable minute) n'est pas nul, ne vaut pas 1 minute et ne depasse pas non plus un MOIS. Contrairement à RAW_recipes, nous avons restreint le nombre de variables dans \"RAW_recipesnew\". Nous gardons les variables id du récette, id du contributeur, le nom des récettes, l'étape, le nombre d'ingrédients et 7 autres variables qui proviennent du split de la variable nutrition."
   ]
  },
  {
   "cell_type": "code",
   "execution_count": 76,
   "id": "1823541e-3ac3-4872-94fb-ab6d9ae6b8cc",
   "metadata": {},
   "outputs": [
    {
     "data": {
      "text/html": [
       "<div>\n",
       "<style scoped>\n",
       "    .dataframe tbody tr th:only-of-type {\n",
       "        vertical-align: middle;\n",
       "    }\n",
       "\n",
       "    .dataframe tbody tr th {\n",
       "        vertical-align: top;\n",
       "    }\n",
       "\n",
       "    .dataframe thead th {\n",
       "        text-align: right;\n",
       "    }\n",
       "</style>\n",
       "<table border=\"1\" class=\"dataframe\">\n",
       "  <thead>\n",
       "    <tr style=\"text-align: right;\">\n",
       "      <th></th>\n",
       "      <th>id</th>\n",
       "      <th>contributor_id</th>\n",
       "      <th>name</th>\n",
       "      <th>minutes</th>\n",
       "      <th>n_steps</th>\n",
       "      <th>n_ingredients</th>\n",
       "      <th>calories</th>\n",
       "      <th>total_fat</th>\n",
       "      <th>sugar</th>\n",
       "      <th>sodium</th>\n",
       "      <th>protein</th>\n",
       "      <th>saturated_fat</th>\n",
       "      <th>carbohydrates</th>\n",
       "    </tr>\n",
       "  </thead>\n",
       "  <tbody>\n",
       "    <tr>\n",
       "      <th>0</th>\n",
       "      <td>137739</td>\n",
       "      <td>47892</td>\n",
       "      <td>arriba   baked winter squash mexican style</td>\n",
       "      <td>55</td>\n",
       "      <td>11</td>\n",
       "      <td>7</td>\n",
       "      <td>51.5</td>\n",
       "      <td>0.0</td>\n",
       "      <td>13.0</td>\n",
       "      <td>0.0</td>\n",
       "      <td>2.0</td>\n",
       "      <td>0.0</td>\n",
       "      <td>4.0</td>\n",
       "    </tr>\n",
       "  </tbody>\n",
       "</table>\n",
       "</div>"
      ],
      "text/plain": [
       "       id  contributor_id                                        name  \\\n",
       "0  137739           47892  arriba   baked winter squash mexican style   \n",
       "\n",
       "   minutes  n_steps  n_ingredients  calories  total_fat  sugar  sodium  \\\n",
       "0       55       11              7      51.5        0.0   13.0     0.0   \n",
       "\n",
       "   protein  saturated_fat  carbohydrates  \n",
       "0      2.0            0.0            4.0  "
      ]
     },
     "execution_count": 76,
     "metadata": {},
     "output_type": "execute_result"
    }
   ],
   "source": [
    "data3 = pd.read_csv(\"RAW_recipesnew.csv\")\n",
    "data3.head(1)"
   ]
  },
  {
   "cell_type": "code",
   "execution_count": 77,
   "id": "2af8596e-ccee-4c43-a7dc-8eb4d29582c4",
   "metadata": {},
   "outputs": [
    {
     "name": "stdout",
     "output_type": "stream",
     "text": [
      "RAW_recipesnew comporte 229945 observations et 13 variables.\n"
     ]
    }
   ],
   "source": [
    "print(\"RAW_recipesnew comporte\", data3.shape[0], \"observations et\", data3.shape[1], \"variables.\" )"
   ]
  },
  {
   "cell_type": "markdown",
   "id": "8c7d615e-b0d2-47a3-9d79-b6527814506a",
   "metadata": {},
   "source": [
    "## 3. Rajouter \"rating moyen\" dans \"RAW_recipesnew\" pour obtenir \"D\""
   ]
  },
  {
   "cell_type": "markdown",
   "id": "24fe03cf-ca05-4f22-8954-f4de172016d4",
   "metadata": {},
   "source": [
    "### calcul du rating moyen de chaque récette"
   ]
  },
  {
   "cell_type": "markdown",
   "id": "1357ded9-56da-4cb0-9055-ba029b1bec32",
   "metadata": {},
   "source": [
    "Comme une récette pourrait avoir plusieurs rating. On décide donc de rétenir le 'rating moyen' pour chaque récette afin de procéder au merge car dans \"RAW_recipesnew\", tous les id sont uniques."
   ]
  },
  {
   "cell_type": "code",
   "execution_count": 78,
   "id": "abd19329-e7b3-4e35-b16c-47fca7853858",
   "metadata": {},
   "outputs": [
    {
     "data": {
      "text/plain": [
       "recipe_id\n",
       "38    4\n",
       "39    3\n",
       "40    4\n",
       "Name: rating, dtype: int32"
      ]
     },
     "execution_count": 78,
     "metadata": {},
     "output_type": "execute_result"
    }
   ],
   "source": [
    "rating_mean_by_id = data1.groupby('recipe_id')['rating'].mean()\n",
    "rating_mean_by_id = rating_mean_by_id.astype('int') # transformer en entier le 'rating moyen'.\n",
    "rating_mean_by_id.head(3)"
   ]
  },
  {
   "cell_type": "code",
   "execution_count": 79,
   "id": "c847c5e4-dbf8-4bde-bb4a-1dab56a3f537",
   "metadata": {},
   "outputs": [
    {
     "name": "stdout",
     "output_type": "stream",
     "text": [
      "Les modalités de rating sont : [0, 1, 2, 3, 4, 5]\n"
     ]
    }
   ],
   "source": [
    "print(\"Les modalités de rating sont :\", sorted(rating_mean_by_id.unique()))"
   ]
  },
  {
   "cell_type": "markdown",
   "id": "0f8977fa-c77c-45bc-9acc-91445711ea68",
   "metadata": {},
   "source": [
    "### merge entre \"rating moyen\" et \"RAW_recipesnew\""
   ]
  },
  {
   "cell_type": "markdown",
   "id": "483fcca2-d166-45af-be3d-9537472b5ff0",
   "metadata": {},
   "source": [
    "On inclut le \"rating moyen\" dans \"RAW_recipesnew\" en faisant une merge. Le merge s'effectue grâce à l'id des récettes.\n",
    "Pour une question de simplicité, on nomme le 'rating moyen' calculé par 'rating' tout simplement. On sait que dans cette variable, une récette a une seule note et non plusieurs."
   ]
  },
  {
   "cell_type": "code",
   "execution_count": 80,
   "id": "b83ba6ef-2ed2-40b2-9765-41f3f05fb977",
   "metadata": {},
   "outputs": [
    {
     "data": {
      "text/html": [
       "<div>\n",
       "<style scoped>\n",
       "    .dataframe tbody tr th:only-of-type {\n",
       "        vertical-align: middle;\n",
       "    }\n",
       "\n",
       "    .dataframe tbody tr th {\n",
       "        vertical-align: top;\n",
       "    }\n",
       "\n",
       "    .dataframe thead th {\n",
       "        text-align: right;\n",
       "    }\n",
       "</style>\n",
       "<table border=\"1\" class=\"dataframe\">\n",
       "  <thead>\n",
       "    <tr style=\"text-align: right;\">\n",
       "      <th></th>\n",
       "      <th>rating</th>\n",
       "      <th>id</th>\n",
       "      <th>contributor_id</th>\n",
       "      <th>name</th>\n",
       "      <th>minutes</th>\n",
       "      <th>n_steps</th>\n",
       "      <th>n_ingredients</th>\n",
       "      <th>calories</th>\n",
       "      <th>total_fat</th>\n",
       "      <th>sugar</th>\n",
       "      <th>sodium</th>\n",
       "      <th>protein</th>\n",
       "      <th>saturated_fat</th>\n",
       "      <th>carbohydrates</th>\n",
       "    </tr>\n",
       "  </thead>\n",
       "  <tbody>\n",
       "    <tr>\n",
       "      <th>0</th>\n",
       "      <td>4</td>\n",
       "      <td>38</td>\n",
       "      <td>1533</td>\n",
       "      <td>low fat berry blue frozen dessert</td>\n",
       "      <td>1485</td>\n",
       "      <td>13</td>\n",
       "      <td>4</td>\n",
       "      <td>170.9</td>\n",
       "      <td>3.0</td>\n",
       "      <td>120.0</td>\n",
       "      <td>1.0</td>\n",
       "      <td>6.0</td>\n",
       "      <td>6.0</td>\n",
       "      <td>12.0</td>\n",
       "    </tr>\n",
       "  </tbody>\n",
       "</table>\n",
       "</div>"
      ],
      "text/plain": [
       "   rating  id  contributor_id                               name  minutes  \\\n",
       "0       4  38            1533  low fat berry blue frozen dessert     1485   \n",
       "\n",
       "   n_steps  n_ingredients  calories  total_fat  sugar  sodium  protein  \\\n",
       "0       13              4     170.9        3.0  120.0     1.0      6.0   \n",
       "\n",
       "   saturated_fat  carbohydrates  \n",
       "0            6.0           12.0  "
      ]
     },
     "execution_count": 80,
     "metadata": {},
     "output_type": "execute_result"
    }
   ],
   "source": [
    "D = pd.merge(rating_mean_by_id, data3, left_on='recipe_id', right_on='id', how='inner')\n",
    "D.head(1)"
   ]
  },
  {
   "cell_type": "markdown",
   "id": "c29779c1-43e1-448c-a33c-589f9e4ac965",
   "metadata": {},
   "source": [
    "## 4. Rajouter \"calorie_level\" dans \"D\" créé au dessus"
   ]
  },
  {
   "cell_type": "markdown",
   "id": "967befd5-fd66-4526-9060-1a5a62fd8bdd",
   "metadata": {},
   "source": [
    "### Extraction de 'calorie_level'"
   ]
  },
  {
   "cell_type": "markdown",
   "id": "f11a6f69-ea8f-4f18-b04c-27087f4ace48",
   "metadata": {},
   "source": [
    "On extrait la variable 'calorie_level' avec l'id des récettes de la base de donnée de PP_recipes (data2) pour l'inclure dans la base de donneée 'D'."
   ]
  },
  {
   "cell_type": "code",
   "execution_count": 81,
   "id": "e6549427-a80f-4974-b988-2e6b68b1cab7",
   "metadata": {},
   "outputs": [
    {
     "data": {
      "text/html": [
       "<div>\n",
       "<style scoped>\n",
       "    .dataframe tbody tr th:only-of-type {\n",
       "        vertical-align: middle;\n",
       "    }\n",
       "\n",
       "    .dataframe tbody tr th {\n",
       "        vertical-align: top;\n",
       "    }\n",
       "\n",
       "    .dataframe thead th {\n",
       "        text-align: right;\n",
       "    }\n",
       "</style>\n",
       "<table border=\"1\" class=\"dataframe\">\n",
       "  <thead>\n",
       "    <tr style=\"text-align: right;\">\n",
       "      <th></th>\n",
       "      <th>id</th>\n",
       "      <th>calorie_level</th>\n",
       "    </tr>\n",
       "  </thead>\n",
       "  <tbody>\n",
       "    <tr>\n",
       "      <th>0</th>\n",
       "      <td>424415</td>\n",
       "      <td>0</td>\n",
       "    </tr>\n",
       "    <tr>\n",
       "      <th>1</th>\n",
       "      <td>146223</td>\n",
       "      <td>0</td>\n",
       "    </tr>\n",
       "    <tr>\n",
       "      <th>2</th>\n",
       "      <td>312329</td>\n",
       "      <td>1</td>\n",
       "    </tr>\n",
       "  </tbody>\n",
       "</table>\n",
       "</div>"
      ],
      "text/plain": [
       "       id  calorie_level\n",
       "0  424415              0\n",
       "1  146223              0\n",
       "2  312329              1"
      ]
     },
     "execution_count": 81,
     "metadata": {},
     "output_type": "execute_result"
    }
   ],
   "source": [
    "calorie_level = data2[['id','calorie_level']]\n",
    "calorie_level.head(3)"
   ]
  },
  {
   "cell_type": "markdown",
   "id": "be359f64-b4b1-4026-b9b4-5a8eb3e87907",
   "metadata": {},
   "source": [
    "### Merge entre \"calorie_level\" et \"D\" pour obtenir \"T\""
   ]
  },
  {
   "cell_type": "markdown",
   "id": "786da92f-8d1f-4841-98da-a184eefc7f88",
   "metadata": {},
   "source": [
    "Le merge s'effectue une fois de plus avec l'id des récettes. On obtient la base de donnée \"T\"."
   ]
  },
  {
   "cell_type": "code",
   "execution_count": 82,
   "id": "f5515ee6-6a8e-4793-901d-6e63a24a4507",
   "metadata": {},
   "outputs": [
    {
     "data": {
      "text/html": [
       "<div>\n",
       "<style scoped>\n",
       "    .dataframe tbody tr th:only-of-type {\n",
       "        vertical-align: middle;\n",
       "    }\n",
       "\n",
       "    .dataframe tbody tr th {\n",
       "        vertical-align: top;\n",
       "    }\n",
       "\n",
       "    .dataframe thead th {\n",
       "        text-align: right;\n",
       "    }\n",
       "</style>\n",
       "<table border=\"1\" class=\"dataframe\">\n",
       "  <thead>\n",
       "    <tr style=\"text-align: right;\">\n",
       "      <th></th>\n",
       "      <th>id</th>\n",
       "      <th>calorie_level</th>\n",
       "      <th>rating</th>\n",
       "      <th>contributor_id</th>\n",
       "      <th>name</th>\n",
       "      <th>minutes</th>\n",
       "      <th>n_steps</th>\n",
       "      <th>n_ingredients</th>\n",
       "      <th>calories</th>\n",
       "      <th>total_fat</th>\n",
       "      <th>sugar</th>\n",
       "      <th>sodium</th>\n",
       "      <th>protein</th>\n",
       "      <th>saturated_fat</th>\n",
       "      <th>carbohydrates</th>\n",
       "    </tr>\n",
       "  </thead>\n",
       "  <tbody>\n",
       "    <tr>\n",
       "      <th>0</th>\n",
       "      <td>424415</td>\n",
       "      <td>0</td>\n",
       "      <td>4</td>\n",
       "      <td>496803</td>\n",
       "      <td>aromatic basmati rice  rice cooker</td>\n",
       "      <td>61</td>\n",
       "      <td>6</td>\n",
       "      <td>5</td>\n",
       "      <td>228.2</td>\n",
       "      <td>2.0</td>\n",
       "      <td>2.0</td>\n",
       "      <td>8.0</td>\n",
       "      <td>9.0</td>\n",
       "      <td>1.0</td>\n",
       "      <td>15.0</td>\n",
       "    </tr>\n",
       "    <tr>\n",
       "      <th>1</th>\n",
       "      <td>146223</td>\n",
       "      <td>0</td>\n",
       "      <td>5</td>\n",
       "      <td>229619</td>\n",
       "      <td>pumpkin pie a la easy</td>\n",
       "      <td>55</td>\n",
       "      <td>10</td>\n",
       "      <td>12</td>\n",
       "      <td>249.4</td>\n",
       "      <td>16.0</td>\n",
       "      <td>92.0</td>\n",
       "      <td>8.0</td>\n",
       "      <td>11.0</td>\n",
       "      <td>27.0</td>\n",
       "      <td>11.0</td>\n",
       "    </tr>\n",
       "  </tbody>\n",
       "</table>\n",
       "</div>"
      ],
      "text/plain": [
       "       id  calorie_level  rating  contributor_id  \\\n",
       "0  424415              0       4          496803   \n",
       "1  146223              0       5          229619   \n",
       "\n",
       "                                 name  minutes  n_steps  n_ingredients  \\\n",
       "0  aromatic basmati rice  rice cooker       61        6              5   \n",
       "1               pumpkin pie a la easy       55       10             12   \n",
       "\n",
       "   calories  total_fat  sugar  sodium  protein  saturated_fat  carbohydrates  \n",
       "0     228.2        2.0    2.0     8.0      9.0            1.0           15.0  \n",
       "1     249.4       16.0   92.0     8.0     11.0           27.0           11.0  "
      ]
     },
     "execution_count": 82,
     "metadata": {},
     "output_type": "execute_result"
    }
   ],
   "source": [
    "T = pd.merge(calorie_level, D, left_on='id', right_on='id', how='inner')\n",
    "T.head(2)"
   ]
  },
  {
   "cell_type": "markdown",
   "id": "cb0a22c6-ae0f-415f-8b24-77aca53e7f17",
   "metadata": {},
   "source": [
    "## 5. Création de 3 nouvelles variables "
   ]
  },
  {
   "cell_type": "markdown",
   "id": "707f304e-f26f-46ea-b540-a55b2965c8d8",
   "metadata": {},
   "source": [
    "On crée 3 nouvelles variables catégorielles nommées 'minutes_discrt', 'n_ingredients_discrt' et 'rating_bin'.\n",
    "Les deux premières proviennent de la discrétisation des variables continues 'minutes' et 'n_ingredients'.\n",
    "La dernière 'rating_bin' est une variable binaire qui s'obtient en additionnant les modalités 0, 1, 2 et 3 d'une part et les modalités 4 et 5 d'autre part."
   ]
  },
  {
   "cell_type": "markdown",
   "id": "312f0eec-e14c-49bd-8bb9-836cb1cb36d7",
   "metadata": {},
   "source": [
    "### discretisation de la variable \"minutes\""
   ]
  },
  {
   "cell_type": "raw",
   "id": "6a8fe144-9fc9-4a8a-9d23-97f1518ebdf7",
   "metadata": {},
   "source": [
    "On discrétise la variable continue \"minutes\" en une variable catégorielle \"minutes_discrt\" qui comporte 5 modalités.\n",
    "J'ai décicé que toutes les modalités aient à peu-près la même proportion."
   ]
  },
  {
   "cell_type": "code",
   "execution_count": 83,
   "id": "b1a8f76b-119f-4c24-958a-61525b3b9e65",
   "metadata": {},
   "outputs": [
    {
     "name": "stdout",
     "output_type": "stream",
     "text": [
      "Les 5 modalités de la variable 'minutes_discrt' sont : ['0', '1', '2', '3', '4']\n"
     ]
    }
   ],
   "source": [
    "# Discretisation de la variable quantitative \"minutes\" en 5 classes\n",
    "quantile_minutes = 5                         #nombre de classe\n",
    "labels_minutes = ['0', '1', '2', '3', '4']   #nom de classes\n",
    "minutes_discrt = pd.qcut(T['minutes'], q=quantile_minutes, labels = labels_minutes)\n",
    "print(\"Les 5 modalités de la variable 'minutes_discrt' sont :\", sorted(minutes_discrt.unique()))"
   ]
  },
  {
   "cell_type": "markdown",
   "id": "0f3663bd-7624-48c2-ac72-1c4b7774cc29",
   "metadata": {},
   "source": [
    "### discretisation de la variable \"n_ingredients\""
   ]
  },
  {
   "cell_type": "raw",
   "id": "7fa10f06-2170-4b16-9225-187084efdfd2",
   "metadata": {},
   "source": [
    "On discrétise la variable continue \"n_ingredients\" en une variable catégorielle \"n_ingredients_discrt\" qui comporte 5 modalités. J'ai également que décicé que toutes les modalités aient à peu-près la même proportion."
   ]
  },
  {
   "cell_type": "code",
   "execution_count": 84,
   "id": "f7a9664d-b8f4-41db-b7c8-ca501de9cfe3",
   "metadata": {},
   "outputs": [
    {
     "name": "stdout",
     "output_type": "stream",
     "text": [
      "Les 5 modalités de la variable 'n_ingredients_discrt' sont : ['0', '1', '2', '3', '4']\n"
     ]
    }
   ],
   "source": [
    "# Discretisation de la variable quantitative \"n_ingredients\" en 5 classes\n",
    "quantile_nbreingre = 5\n",
    "labels_ingredients = ['0', '1', '2', '3', '4']\n",
    "n_ingredients_discrt = pd.qcut(T['n_ingredients'], q=quantile_nbreingre, labels = labels_ingredients)\n",
    "print(\"Les 5 modalités de la variable 'n_ingredients_discrt' sont :\", sorted(n_ingredients_discrt.unique()))"
   ]
  },
  {
   "cell_type": "markdown",
   "id": "c9f3cce6-a78f-44c4-bd7b-fdb7d8c82e71",
   "metadata": {},
   "source": [
    "### création d'une nouvelle variable \"rating_bin\""
   ]
  },
  {
   "cell_type": "raw",
   "id": "816f043f-5299-4cfd-98a1-4083ed6a85c9",
   "metadata": {},
   "source": [
    "\"rating\" est une variable catégorielle qui comporte 5 modalités : 0, 1, 2, 3 et 4. \n",
    "On crée une nouvelle variable \"rating_bin\" :\n",
    "- En regoupant les modalités 0, 1, 2 et 3 en une seule modalité \"0\".\n",
    "- En regroupant les modalités 4 et 5 en une seule modalité \"1\"."
   ]
  },
  {
   "cell_type": "code",
   "execution_count": 85,
   "id": "193c93f5-0555-4661-b3bf-197f7217edd0",
   "metadata": {},
   "outputs": [],
   "source": [
    "rating_bin = T['rating'].replace({0:'0', 1:'0', 2:'0', 3:'0', 4:'1', 5:'1'})"
   ]
  },
  {
   "cell_type": "markdown",
   "id": "360c5582-fa8a-4c72-8e56-b1aa2d71ca2d",
   "metadata": {},
   "source": [
    "### insertion de ces variables dans la base de donnee \"T\""
   ]
  },
  {
   "cell_type": "markdown",
   "id": "c4aef004-bcb0-4fc3-b54f-be236a44d91f",
   "metadata": {},
   "source": [
    "Enfin, on inclut ces 3 variables dans la base de donnée \"T\"."
   ]
  },
  {
   "cell_type": "code",
   "execution_count": 86,
   "id": "2d3584a1-5aa1-485f-98e0-9a8ce037fd37",
   "metadata": {},
   "outputs": [],
   "source": [
    "# On inclut les variables discrétisées dans la base de donnee T\n",
    "T['minutes_discrt'] = minutes_discrt\n",
    "T['n_ingredients_discrt'] = n_ingredients_discrt\n",
    "T['rating_bin'] = rating_bin"
   ]
  },
  {
   "cell_type": "code",
   "execution_count": 93,
   "id": "4aba37ba-527a-4ff8-9973-ad3b518db997",
   "metadata": {},
   "outputs": [],
   "source": [
    "# Convertir en entier les variables ci-dessous\n",
    "\n",
    "T['total_fat'] = T['total_fat'].astype(int)\n",
    "T['sugar'] = T['sugar'].astype(int)\n",
    "T['sodium'] = T['sodium'].astype(int)\n",
    "T['protein'] = T['protein'].astype(int)\n",
    "T['total_fat'] = T['total_fat'].astype(int)\n",
    "T['saturated_fat'] = T['saturated_fat'].astype(int)\n",
    "T['carbohydrates'] = T['carbohydrates'].astype(int)\n",
    "T['n_steps'] = T['n_steps'].astype(int)\n",
    "T['minutes_discrt'] = T['minutes_discrt'].astype(int)"
   ]
  },
  {
   "cell_type": "markdown",
   "id": "7da90b14-230c-4132-8b28-5f6b73076e67",
   "metadata": {},
   "source": [
    "## Base de donnée T"
   ]
  },
  {
   "cell_type": "code",
   "execution_count": 88,
   "id": "4a36d03c-f20c-4787-9f38-2b9b868e6b50",
   "metadata": {},
   "outputs": [],
   "source": [
    "# On impose un ordre d'affichage des variables\n",
    "T = pd.DataFrame.reindex(T, columns = ['id', 'contributor_id', 'name', 'minutes', 'minutes_discrt',\n",
    "                                       'n_steps', 'n_ingredients', 'n_ingredients_discrt', \n",
    "                                       'calories', 'calorie_level', 'total_fat', 'saturated_fat', 'sugar', 'sodium',\n",
    "                                       'protein', 'carbohydrates', 'rating', 'rating_bin'])"
   ]
  },
  {
   "cell_type": "code",
   "execution_count": 89,
   "id": "f97e2168-c41d-4143-9861-322258806f90",
   "metadata": {},
   "outputs": [
    {
     "data": {
      "text/html": [
       "<div>\n",
       "<style scoped>\n",
       "    .dataframe tbody tr th:only-of-type {\n",
       "        vertical-align: middle;\n",
       "    }\n",
       "\n",
       "    .dataframe tbody tr th {\n",
       "        vertical-align: top;\n",
       "    }\n",
       "\n",
       "    .dataframe thead th {\n",
       "        text-align: right;\n",
       "    }\n",
       "</style>\n",
       "<table border=\"1\" class=\"dataframe\">\n",
       "  <thead>\n",
       "    <tr style=\"text-align: right;\">\n",
       "      <th></th>\n",
       "      <th>id</th>\n",
       "      <th>contributor_id</th>\n",
       "      <th>name</th>\n",
       "      <th>minutes</th>\n",
       "      <th>minutes_discrt</th>\n",
       "      <th>n_steps</th>\n",
       "      <th>n_ingredients</th>\n",
       "      <th>n_ingredients_discrt</th>\n",
       "      <th>calories</th>\n",
       "      <th>calorie_level</th>\n",
       "      <th>total_fat</th>\n",
       "      <th>saturated_fat</th>\n",
       "      <th>sugar</th>\n",
       "      <th>sodium</th>\n",
       "      <th>protein</th>\n",
       "      <th>carbohydrates</th>\n",
       "      <th>rating</th>\n",
       "      <th>rating_bin</th>\n",
       "    </tr>\n",
       "  </thead>\n",
       "  <tbody>\n",
       "    <tr>\n",
       "      <th>0</th>\n",
       "      <td>424415</td>\n",
       "      <td>496803</td>\n",
       "      <td>aromatic basmati rice  rice cooker</td>\n",
       "      <td>61</td>\n",
       "      <td>3</td>\n",
       "      <td>6</td>\n",
       "      <td>5</td>\n",
       "      <td>0</td>\n",
       "      <td>228.2</td>\n",
       "      <td>0</td>\n",
       "      <td>2</td>\n",
       "      <td>1</td>\n",
       "      <td>2</td>\n",
       "      <td>8</td>\n",
       "      <td>9</td>\n",
       "      <td>15</td>\n",
       "      <td>4</td>\n",
       "      <td>1</td>\n",
       "    </tr>\n",
       "    <tr>\n",
       "      <th>1</th>\n",
       "      <td>146223</td>\n",
       "      <td>229619</td>\n",
       "      <td>pumpkin pie a la easy</td>\n",
       "      <td>55</td>\n",
       "      <td>3</td>\n",
       "      <td>10</td>\n",
       "      <td>12</td>\n",
       "      <td>3</td>\n",
       "      <td>249.4</td>\n",
       "      <td>0</td>\n",
       "      <td>16</td>\n",
       "      <td>27</td>\n",
       "      <td>92</td>\n",
       "      <td>8</td>\n",
       "      <td>11</td>\n",
       "      <td>11</td>\n",
       "      <td>5</td>\n",
       "      <td>1</td>\n",
       "    </tr>\n",
       "  </tbody>\n",
       "</table>\n",
       "</div>"
      ],
      "text/plain": [
       "       id  contributor_id                                name  minutes  \\\n",
       "0  424415          496803  aromatic basmati rice  rice cooker       61   \n",
       "1  146223          229619               pumpkin pie a la easy       55   \n",
       "\n",
       "   minutes_discrt  n_steps  n_ingredients n_ingredients_discrt  calories  \\\n",
       "0               3        6              5                    0     228.2   \n",
       "1               3       10             12                    3     249.4   \n",
       "\n",
       "   calorie_level  total_fat  saturated_fat  sugar  sodium  protein  \\\n",
       "0              0          2              1      2       8        9   \n",
       "1              0         16             27     92       8       11   \n",
       "\n",
       "   carbohydrates  rating rating_bin  \n",
       "0             15       4          1  \n",
       "1             11       5          1  "
      ]
     },
     "execution_count": 89,
     "metadata": {},
     "output_type": "execute_result"
    }
   ],
   "source": [
    "T.head(2)"
   ]
  },
  {
   "cell_type": "code",
   "execution_count": 90,
   "id": "1f12a7a2-9a3c-42df-8507-14173328d8bc",
   "metadata": {},
   "outputs": [
    {
     "name": "stdout",
     "output_type": "stream",
     "text": [
      "La base de donnée T comporte 177224 observations et 18 variables.\n"
     ]
    }
   ],
   "source": [
    "print(\"La base de donnée T comporte\", T.shape[0], \"observations et\", T.shape[1], \"variables.\" )"
   ]
  },
  {
   "cell_type": "code",
   "execution_count": 94,
   "id": "dfa15edf-3b65-4506-9635-adc5ee445d6c",
   "metadata": {},
   "outputs": [
    {
     "name": "stdout",
     "output_type": "stream",
     "text": [
      "La base de donnée T comporte 0 donnée manquante.\n"
     ]
    }
   ],
   "source": [
    "print(\"La base de donnée T comporte\", T.isnull().sum().sum(), \"donnée manquante.\")"
   ]
  },
  {
   "cell_type": "markdown",
   "id": "68ddb7ef-b701-46cf-b680-b86cd9a2fc99",
   "metadata": {},
   "source": [
    "### Exporter la base de donnée T dans un fichier \"csv\""
   ]
  },
  {
   "cell_type": "markdown",
   "id": "f8df5ff6-1f9f-45d4-a2f4-55e98241b701",
   "metadata": {},
   "source": [
    "On exporte la base de donnée T ainsi créée dans un fichier csv pour pouvoir l'utiliser dans notre projet 2."
   ]
  },
  {
   "cell_type": "code",
   "execution_count": 95,
   "id": "776d7f7d-3f28-4586-95f9-8c7f8bc30931",
   "metadata": {},
   "outputs": [],
   "source": [
    "T.to_csv(\"T.csv\")"
   ]
  },
  {
   "cell_type": "code",
   "execution_count": null,
   "id": "7494a432-3c6f-4cff-be47-368b72b43547",
   "metadata": {},
   "outputs": [],
   "source": []
  }
 ],
 "metadata": {
  "kernelspec": {
   "display_name": "Python 3 (ipykernel)",
   "language": "python",
   "name": "python3"
  },
  "language_info": {
   "codemirror_mode": {
    "name": "ipython",
    "version": 3
   },
   "file_extension": ".py",
   "mimetype": "text/x-python",
   "name": "python",
   "nbconvert_exporter": "python",
   "pygments_lexer": "ipython3",
   "version": "3.11.4"
  }
 },
 "nbformat": 4,
 "nbformat_minor": 5
}

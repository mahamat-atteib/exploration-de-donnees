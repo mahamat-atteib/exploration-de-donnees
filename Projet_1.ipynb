{
 "cells": [
  {
   "cell_type": "markdown",
   "id": "eeb56bdf",
   "metadata": {},
   "source": [
    "# <span style='color:Blue'> PROJET 1 : Univariate Analysis  </span>"
   ]
  },
  {
   "cell_type": "code",
   "execution_count": 1,
   "id": "0c11e5dd",
   "metadata": {},
   "outputs": [],
   "source": [
    "import numpy as np \n",
    "import matplotlib.pyplot as plt \n",
    "import pandas as pd \n",
    "import seaborn as sns\n",
    "import IPython"
   ]
  },
  {
   "cell_type": "markdown",
   "id": "78c42143",
   "metadata": {},
   "source": [
    "Let us start with the recipe file that contains the reciped submitted to the website describes by several features. \n",
    "Below you'll find some code to read the data and print the first three rows. I used the `panda` library for these two steps, meaning that I will be manipulating a dataframe object. "
   ]
  },
  {
   "cell_type": "code",
   "execution_count": 2,
   "id": "9e61080f",
   "metadata": {},
   "outputs": [
    {
     "data": {
      "text/html": [
       "<div>\n",
       "<style scoped>\n",
       "    .dataframe tbody tr th:only-of-type {\n",
       "        vertical-align: middle;\n",
       "    }\n",
       "\n",
       "    .dataframe tbody tr th {\n",
       "        vertical-align: top;\n",
       "    }\n",
       "\n",
       "    .dataframe thead th {\n",
       "        text-align: right;\n",
       "    }\n",
       "</style>\n",
       "<table border=\"1\" class=\"dataframe\">\n",
       "  <thead>\n",
       "    <tr style=\"text-align: right;\">\n",
       "      <th></th>\n",
       "      <th>name</th>\n",
       "      <th>id</th>\n",
       "      <th>minutes</th>\n",
       "      <th>contributor_id</th>\n",
       "      <th>submitted</th>\n",
       "      <th>tags</th>\n",
       "      <th>nutrition</th>\n",
       "      <th>n_steps</th>\n",
       "      <th>steps</th>\n",
       "      <th>description</th>\n",
       "      <th>ingredients</th>\n",
       "      <th>n_ingredients</th>\n",
       "    </tr>\n",
       "  </thead>\n",
       "  <tbody>\n",
       "    <tr>\n",
       "      <th>0</th>\n",
       "      <td>arriba   baked winter squash mexican style</td>\n",
       "      <td>137739</td>\n",
       "      <td>55</td>\n",
       "      <td>47892</td>\n",
       "      <td>2005-09-16</td>\n",
       "      <td>['60-minutes-or-less', 'time-to-make', 'course...</td>\n",
       "      <td>[51.5, 0.0, 13.0, 0.0, 2.0, 0.0, 4.0]</td>\n",
       "      <td>11</td>\n",
       "      <td>['make a choice and proceed with recipe', 'dep...</td>\n",
       "      <td>autumn is my favorite time of year to cook! th...</td>\n",
       "      <td>['winter squash', 'mexican seasoning', 'mixed ...</td>\n",
       "      <td>7</td>\n",
       "    </tr>\n",
       "  </tbody>\n",
       "</table>\n",
       "</div>"
      ],
      "text/plain": [
       "                                         name      id  minutes  \\\n",
       "0  arriba   baked winter squash mexican style  137739       55   \n",
       "\n",
       "   contributor_id   submitted  \\\n",
       "0           47892  2005-09-16   \n",
       "\n",
       "                                                tags  \\\n",
       "0  ['60-minutes-or-less', 'time-to-make', 'course...   \n",
       "\n",
       "                               nutrition  n_steps  \\\n",
       "0  [51.5, 0.0, 13.0, 0.0, 2.0, 0.0, 4.0]       11   \n",
       "\n",
       "                                               steps  \\\n",
       "0  ['make a choice and proceed with recipe', 'dep...   \n",
       "\n",
       "                                         description  \\\n",
       "0  autumn is my favorite time of year to cook! th...   \n",
       "\n",
       "                                         ingredients  n_ingredients  \n",
       "0  ['winter squash', 'mexican seasoning', 'mixed ...              7  "
      ]
     },
     "execution_count": 2,
     "metadata": {},
     "output_type": "execute_result"
    }
   ],
   "source": [
    "# Import the data and print the first three rows \n",
    "recipe = pd.read_csv(\"RAW_recipes.csv\")\n",
    "recipe.head(1)"
   ]
  },
  {
   "cell_type": "markdown",
   "id": "bd748392",
   "metadata": {},
   "source": [
    "## Quelques infos sur la base de donnee Recipe"
   ]
  },
  {
   "cell_type": "code",
   "execution_count": 3,
   "id": "5efbacaa",
   "metadata": {},
   "outputs": [
    {
     "name": "stdout",
     "output_type": "stream",
     "text": [
      "<class 'pandas.core.frame.DataFrame'>\n",
      "RangeIndex: 231637 entries, 0 to 231636\n",
      "Data columns (total 12 columns):\n",
      " #   Column          Non-Null Count   Dtype \n",
      "---  ------          --------------   ----- \n",
      " 0   name            231636 non-null  object\n",
      " 1   id              231637 non-null  int64 \n",
      " 2   minutes         231637 non-null  int64 \n",
      " 3   contributor_id  231637 non-null  int64 \n",
      " 4   submitted       231637 non-null  object\n",
      " 5   tags            231637 non-null  object\n",
      " 6   nutrition       231637 non-null  object\n",
      " 7   n_steps         231637 non-null  int64 \n",
      " 8   steps           231637 non-null  object\n",
      " 9   description     226658 non-null  object\n",
      " 10  ingredients     231637 non-null  object\n",
      " 11  n_ingredients   231637 non-null  int64 \n",
      "dtypes: int64(5), object(7)\n",
      "memory usage: 21.2+ MB\n",
      "Quelques infos de notre base de donnee None\n"
     ]
    }
   ],
   "source": [
    "print(\"Quelques infos de notre base de donnee\", recipe.info())"
   ]
  },
  {
   "cell_type": "code",
   "execution_count": 4,
   "id": "46ce9c02",
   "metadata": {},
   "outputs": [
    {
     "data": {
      "text/html": [
       "<div>\n",
       "<style scoped>\n",
       "    .dataframe tbody tr th:only-of-type {\n",
       "        vertical-align: middle;\n",
       "    }\n",
       "\n",
       "    .dataframe tbody tr th {\n",
       "        vertical-align: top;\n",
       "    }\n",
       "\n",
       "    .dataframe thead th {\n",
       "        text-align: right;\n",
       "    }\n",
       "</style>\n",
       "<table border=\"1\" class=\"dataframe\">\n",
       "  <thead>\n",
       "    <tr style=\"text-align: right;\">\n",
       "      <th></th>\n",
       "      <th>minutes</th>\n",
       "      <th>n_steps</th>\n",
       "      <th>n_ingredients</th>\n",
       "    </tr>\n",
       "  </thead>\n",
       "  <tbody>\n",
       "    <tr>\n",
       "      <th>count</th>\n",
       "      <td>2.316370e+05</td>\n",
       "      <td>231637.0</td>\n",
       "      <td>231637.0</td>\n",
       "    </tr>\n",
       "    <tr>\n",
       "      <th>mean</th>\n",
       "      <td>9.398500e+03</td>\n",
       "      <td>9.8</td>\n",
       "      <td>9.1</td>\n",
       "    </tr>\n",
       "    <tr>\n",
       "      <th>std</th>\n",
       "      <td>4.461963e+06</td>\n",
       "      <td>6.0</td>\n",
       "      <td>3.7</td>\n",
       "    </tr>\n",
       "    <tr>\n",
       "      <th>min</th>\n",
       "      <td>0.000000e+00</td>\n",
       "      <td>0.0</td>\n",
       "      <td>1.0</td>\n",
       "    </tr>\n",
       "    <tr>\n",
       "      <th>25%</th>\n",
       "      <td>2.000000e+01</td>\n",
       "      <td>6.0</td>\n",
       "      <td>6.0</td>\n",
       "    </tr>\n",
       "    <tr>\n",
       "      <th>50%</th>\n",
       "      <td>4.000000e+01</td>\n",
       "      <td>9.0</td>\n",
       "      <td>9.0</td>\n",
       "    </tr>\n",
       "    <tr>\n",
       "      <th>75%</th>\n",
       "      <td>6.500000e+01</td>\n",
       "      <td>12.0</td>\n",
       "      <td>11.0</td>\n",
       "    </tr>\n",
       "    <tr>\n",
       "      <th>max</th>\n",
       "      <td>2.147484e+09</td>\n",
       "      <td>145.0</td>\n",
       "      <td>43.0</td>\n",
       "    </tr>\n",
       "  </tbody>\n",
       "</table>\n",
       "</div>"
      ],
      "text/plain": [
       "            minutes   n_steps  n_ingredients\n",
       "count  2.316370e+05  231637.0       231637.0\n",
       "mean   9.398500e+03       9.8            9.1\n",
       "std    4.461963e+06       6.0            3.7\n",
       "min    0.000000e+00       0.0            1.0\n",
       "25%    2.000000e+01       6.0            6.0\n",
       "50%    4.000000e+01       9.0            9.0\n",
       "75%    6.500000e+01      12.0           11.0\n",
       "max    2.147484e+09     145.0           43.0"
      ]
     },
     "metadata": {},
     "output_type": "display_data"
    }
   ],
   "source": [
    "# Statistique descriptive de la base de donnee, on exclut les variables \"id\" et \"contributor_id\" du calcul\n",
    "# car leur calcul n'a aucun intérêt.\n",
    "IPython.display.display(round(recipe.drop(['id', 'contributor_id'], axis = 1).describe(), 1))"
   ]
  },
  {
   "cell_type": "code",
   "execution_count": 5,
   "id": "27b50578",
   "metadata": {},
   "outputs": [
    {
     "data": {
      "text/html": [
       "<div>\n",
       "<style scoped>\n",
       "    .dataframe tbody tr th:only-of-type {\n",
       "        vertical-align: middle;\n",
       "    }\n",
       "\n",
       "    .dataframe tbody tr th {\n",
       "        vertical-align: top;\n",
       "    }\n",
       "\n",
       "    .dataframe thead th {\n",
       "        text-align: right;\n",
       "    }\n",
       "</style>\n",
       "<table border=\"1\" class=\"dataframe\">\n",
       "  <thead>\n",
       "    <tr style=\"text-align: right;\">\n",
       "      <th></th>\n",
       "      <th>name</th>\n",
       "      <th>id</th>\n",
       "      <th>minutes</th>\n",
       "      <th>contributor_id</th>\n",
       "      <th>submitted</th>\n",
       "      <th>tags</th>\n",
       "      <th>nutrition</th>\n",
       "      <th>n_steps</th>\n",
       "      <th>steps</th>\n",
       "      <th>description</th>\n",
       "      <th>ingredients</th>\n",
       "      <th>n_ingredients</th>\n",
       "    </tr>\n",
       "  </thead>\n",
       "  <tbody>\n",
       "    <tr>\n",
       "      <th>231635</th>\n",
       "      <td>cookies by design   cookies on a stick</td>\n",
       "      <td>298512</td>\n",
       "      <td>29</td>\n",
       "      <td>506822</td>\n",
       "      <td>2008-04-15</td>\n",
       "      <td>['30-minutes-or-less', 'time-to-make', 'course...</td>\n",
       "      <td>[188.0, 11.0, 57.0, 11.0, 7.0, 21.0, 9.0]</td>\n",
       "      <td>9</td>\n",
       "      <td>['place melted butter in a large mixing bowl a...</td>\n",
       "      <td>i've heard of the 'cookies by design' company,...</td>\n",
       "      <td>['butter', 'eagle brand condensed milk', 'ligh...</td>\n",
       "      <td>10</td>\n",
       "    </tr>\n",
       "    <tr>\n",
       "      <th>231636</th>\n",
       "      <td>cookies by design   sugar shortbread cookies</td>\n",
       "      <td>298509</td>\n",
       "      <td>20</td>\n",
       "      <td>506822</td>\n",
       "      <td>2008-04-15</td>\n",
       "      <td>['30-minutes-or-less', 'time-to-make', 'course...</td>\n",
       "      <td>[174.9, 14.0, 33.0, 4.0, 4.0, 11.0, 6.0]</td>\n",
       "      <td>5</td>\n",
       "      <td>['whip sugar and shortening in a large bowl , ...</td>\n",
       "      <td>i've heard of the 'cookies by design' company,...</td>\n",
       "      <td>['granulated sugar', 'shortening', 'eggs', 'fl...</td>\n",
       "      <td>7</td>\n",
       "    </tr>\n",
       "  </tbody>\n",
       "</table>\n",
       "</div>"
      ],
      "text/plain": [
       "                                                name      id  minutes  \\\n",
       "231635        cookies by design   cookies on a stick  298512       29   \n",
       "231636  cookies by design   sugar shortbread cookies  298509       20   \n",
       "\n",
       "        contributor_id   submitted  \\\n",
       "231635          506822  2008-04-15   \n",
       "231636          506822  2008-04-15   \n",
       "\n",
       "                                                     tags  \\\n",
       "231635  ['30-minutes-or-less', 'time-to-make', 'course...   \n",
       "231636  ['30-minutes-or-less', 'time-to-make', 'course...   \n",
       "\n",
       "                                        nutrition  n_steps  \\\n",
       "231635  [188.0, 11.0, 57.0, 11.0, 7.0, 21.0, 9.0]        9   \n",
       "231636   [174.9, 14.0, 33.0, 4.0, 4.0, 11.0, 6.0]        5   \n",
       "\n",
       "                                                    steps  \\\n",
       "231635  ['place melted butter in a large mixing bowl a...   \n",
       "231636  ['whip sugar and shortening in a large bowl , ...   \n",
       "\n",
       "                                              description  \\\n",
       "231635  i've heard of the 'cookies by design' company,...   \n",
       "231636  i've heard of the 'cookies by design' company,...   \n",
       "\n",
       "                                              ingredients  n_ingredients  \n",
       "231635  ['butter', 'eagle brand condensed milk', 'ligh...             10  \n",
       "231636  ['granulated sugar', 'shortening', 'eggs', 'fl...              7  "
      ]
     },
     "execution_count": 5,
     "metadata": {},
     "output_type": "execute_result"
    }
   ],
   "source": [
    "# Aperçu les 2 dernieres observations\n",
    "recipe.tail(2)"
   ]
  },
  {
   "cell_type": "markdown",
   "id": "2401c5ec",
   "metadata": {},
   "source": [
    "## <span style='color:Blue'> Partie 1 : Temps moyen de cuisson et valeurs manquantes  </span>"
   ]
  },
  {
   "cell_type": "markdown",
   "id": "6939b752",
   "metadata": {},
   "source": [
    "### How many recipes are in the file ?"
   ]
  },
  {
   "cell_type": "code",
   "execution_count": 6,
   "id": "a778da31",
   "metadata": {},
   "outputs": [
    {
     "name": "stdout",
     "output_type": "stream",
     "text": [
      "La base de donnee Recipe a 231637 observations (récettes).\n"
     ]
    }
   ],
   "source": [
    "print(\"La base de donnee Recipe a\", recipe.shape[0], \"observations (récettes).\")"
   ]
  },
  {
   "cell_type": "markdown",
   "id": "3994f9e3",
   "metadata": {},
   "source": [
    "### How many variables do you have. Write the list in a md cell along with the type of the variable for each"
   ]
  },
  {
   "cell_type": "code",
   "execution_count": 7,
   "id": "8a2d560d-50cc-47d2-aa3c-e7c64778d903",
   "metadata": {},
   "outputs": [
    {
     "name": "stdout",
     "output_type": "stream",
     "text": [
      "La base de donnee Recipe comporte 12 variables.\n"
     ]
    }
   ],
   "source": [
    "print(\"La base de donnee Recipe comporte\", recipe.shape[1], \"variables.\")"
   ]
  },
  {
   "cell_type": "code",
   "execution_count": 8,
   "id": "b91a8030",
   "metadata": {},
   "outputs": [
    {
     "name": "stdout",
     "output_type": "stream",
     "text": [
      "Ces 12 variables sont :\n",
      " Index(['name', 'id', 'minutes', 'contributor_id', 'submitted', 'tags',\n",
      "       'nutrition', 'n_steps', 'steps', 'description', 'ingredients',\n",
      "       'n_ingredients'],\n",
      "      dtype='object')\n"
     ]
    }
   ],
   "source": [
    "print(\"Ces 12 variables sont :\\n\", recipe.columns)"
   ]
  },
  {
   "cell_type": "code",
   "execution_count": 9,
   "id": "9026a54b-89f2-4150-b1ae-976331338120",
   "metadata": {},
   "outputs": [
    {
     "name": "stdout",
     "output_type": "stream",
     "text": [
      "Le type de ces variables sont :\n",
      " name              object\n",
      "id                 int64\n",
      "minutes            int64\n",
      "contributor_id     int64\n",
      "submitted         object\n",
      "tags              object\n",
      "nutrition         object\n",
      "n_steps            int64\n",
      "steps             object\n",
      "description       object\n",
      "ingredients       object\n",
      "n_ingredients      int64\n",
      "dtype: object\n"
     ]
    }
   ],
   "source": [
    "print(\"Le type de ces variables sont :\\n\", recipe.dtypes)"
   ]
  },
  {
   "cell_type": "markdown",
   "id": "be7835fc",
   "metadata": {},
   "source": [
    "### Are there any missing values in your dataset?"
   ]
  },
  {
   "cell_type": "code",
   "execution_count": 10,
   "id": "77a3a317",
   "metadata": {},
   "outputs": [
    {
     "name": "stdout",
     "output_type": "stream",
     "text": [
      "Le nombre de données manquantes par variable : \n",
      " name                 1\n",
      "id                   0\n",
      "minutes              0\n",
      "contributor_id       0\n",
      "submitted            0\n",
      "tags                 0\n",
      "nutrition            0\n",
      "n_steps              0\n",
      "steps                0\n",
      "description       4979\n",
      "ingredients          0\n",
      "n_ingredients        0\n",
      "dtype: int64\n"
     ]
    },
    {
     "data": {
      "text/plain": [
       "None"
      ]
     },
     "metadata": {},
     "output_type": "display_data"
    }
   ],
   "source": [
    "# Nombre de données manquantes par variable\n",
    "IPython.display.display(print(\"Le nombre de données manquantes par variable : \\n\", recipe.isnull().sum()))"
   ]
  },
  {
   "cell_type": "raw",
   "id": "0f07e7b1-6f50-4bef-ba6b-8426b0525373",
   "metadata": {},
   "source": [
    "Les variables \"name\" et \"description\" comportent respectivement 1 et 4979 donnée manquantes."
   ]
  },
  {
   "cell_type": "code",
   "execution_count": 11,
   "id": "0dd9a933-f452-46fb-8197-e937723dd3eb",
   "metadata": {},
   "outputs": [
    {
     "name": "stdout",
     "output_type": "stream",
     "text": [
      "Le nombre total de données manquantes dans Recipe est : 4980\n"
     ]
    }
   ],
   "source": [
    "# Nombre total de donnees manquantes\n",
    "print(\"Le nombre total de données manquantes dans Recipe est :\", recipe.isnull().sum().sum())"
   ]
  },
  {
   "cell_type": "code",
   "execution_count": 12,
   "id": "8bcb062c",
   "metadata": {},
   "outputs": [
    {
     "data": {
      "text/plain": [
       "name              230185\n",
       "id                231637\n",
       "minutes              888\n",
       "contributor_id     27926\n",
       "submitted           5090\n",
       "tags              209115\n",
       "nutrition         229318\n",
       "n_steps               94\n",
       "steps             231074\n",
       "description       222668\n",
       "ingredients       230475\n",
       "n_ingredients         41\n",
       "dtype: int64"
      ]
     },
     "metadata": {},
     "output_type": "display_data"
    }
   ],
   "source": [
    "# Valeurs uniques dans les variables\n",
    "IPython.display.display(recipe.nunique())"
   ]
  },
  {
   "cell_type": "markdown",
   "id": "d9e2ad1c",
   "metadata": {},
   "source": [
    "List of variables : ['name', 'id', 'minutes', 'contributor_id', 'submitted', 'tags',\n",
    "       'nutrition', 'n_steps', 'steps', 'description', 'ingredients',\n",
    "       'n_ingredients']"
   ]
  },
  {
   "cell_type": "markdown",
   "id": "de4eee5a",
   "metadata": {},
   "source": [
    "Comments:"
   ]
  },
  {
   "cell_type": "raw",
   "id": "bcb1a729-7e7b-4aca-b097-01d0bbe7836a",
   "metadata": {},
   "source": [
    "### A example of univariate analysis with *minutes*\n",
    "\n",
    "Let's start by analysing the feature **minutes**. It corresponds to the number of minutes required to make a given recipe. Here a few questions to answer to \n",
    "- \n",
    "- What are the fastest and the longest recipe, and how long do they take ? \n",
    "\n",
    "For both questions we will use some statistics including the mean, the minimum and the maximum."
   ]
  },
  {
   "cell_type": "markdown",
   "id": "bdce6e44-a7bb-4ec2-8569-e6775945e1ad",
   "metadata": {},
   "source": [
    "### What is the average time required to make a recipe on the website ? "
   ]
  },
  {
   "cell_type": "code",
   "execution_count": 13,
   "id": "fe35b514",
   "metadata": {},
   "outputs": [
    {
     "name": "stdout",
     "output_type": "stream",
     "text": [
      "Le temps moyen de préparation d'une récette est de 9398.55 minutes\n"
     ]
    }
   ],
   "source": [
    "# Average time \n",
    "avg_time = recipe['minutes'].mean()\n",
    "print(\"Le temps moyen de préparation d'une récette est de {0:.2f}\".format(avg_time), \"minutes\")"
   ]
  },
  {
   "cell_type": "markdown",
   "id": "4f501680",
   "metadata": {},
   "source": [
    "Odd ? What do you think ? \n",
    "Let's convert the maximum into hours and minutes to make it easier to understand. "
   ]
  },
  {
   "cell_type": "code",
   "execution_count": 14,
   "id": "b8fc4264",
   "metadata": {},
   "outputs": [
    {
     "name": "stdout",
     "output_type": "stream",
     "text": [
      "Ce temps moyen correspond à 156 heures et 39 minutes ! C'est enorme !\n"
     ]
    }
   ],
   "source": [
    "# Get hours with floor division \n",
    "hours = avg_time // 60\n",
    "# Get minutes with modulus\n",
    "minutes = avg_time % 60\n",
    "print(\"Ce temps moyen correspond à {} heures et {} minutes ! C'est enorme !\".format(round(hours), round(minutes)))"
   ]
  },
  {
   "cell_type": "code",
   "execution_count": 15,
   "id": "7b5892bf-d33a-4600-8f76-9b9a5ddc2a68",
   "metadata": {},
   "outputs": [],
   "source": [
    "hours_max = recipe['minutes'].max() // 60\n",
    "minutes_max = recipe['minutes'].max() % 60"
   ]
  },
  {
   "cell_type": "markdown",
   "id": "4b8dd60d",
   "metadata": {},
   "source": [
    "Seems a lot ! I prefer to order in that case. Let's see what can cause this very high number by trying to answer the second question."
   ]
  },
  {
   "cell_type": "code",
   "execution_count": 16,
   "id": "45ec1dfa",
   "metadata": {},
   "outputs": [
    {
     "name": "stdout",
     "output_type": "stream",
     "text": [
      "La durée maximale de cuisson est de 35791394 heures et 7 minutes ! C'est enorme !\n",
      "La durée minimale de cuisson est 0 minutes.\n"
     ]
    }
   ],
   "source": [
    "print(\"La durée maximale de cuisson est de {} heures et {} minutes ! C'est enorme !\".format(round(hours_max), round(minutes_max)))\n",
    "#print('La durée maximale de cuisson est', recipe['minutes'].max(), \"minutes.\")\n",
    "print('La durée minimale de cuisson est', recipe['minutes'].min(), \"minutes.\")"
   ]
  },
  {
   "cell_type": "raw",
   "id": "aa30ebac-ced8-4b6f-bfaa-f21fdad11dc8",
   "metadata": {},
   "source": [
    "La logique et le bon sens nous amènent à dire qu'aucune cuisson ne dure 0 minute ni 4 085 ans. \n",
    "On décide d'éliminer les observations précédentes de la base de donnee Recipe."
   ]
  },
  {
   "cell_type": "markdown",
   "id": "c0e863a9",
   "metadata": {},
   "source": [
    "## <span style='color:Blue'> Partie 2 : identification des valeurs extrêmes </span>"
   ]
  },
  {
   "cell_type": "raw",
   "id": "5d2b6c4d-ce8b-4b3f-967c-6d9c952e52b7",
   "metadata": {},
   "source": [
    "So the longest cooking recipe roughly takes around 4085 years to be made ... while the minumum is 0. Seems like we have some outliers. \n",
    "\n",
    "Questions"
   ]
  },
  {
   "cell_type": "markdown",
   "id": "3911a616",
   "metadata": {},
   "source": [
    "### Print the row(s) of the dataframe corresponding to the maximum value for minutes"
   ]
  },
  {
   "cell_type": "raw",
   "id": "8292b356-eb71-49b7-a5f8-d6dca4280be4",
   "metadata": {},
   "source": [
    "Extraire l'observation correspondant à la valeur maximale de \"minutes\"."
   ]
  },
  {
   "cell_type": "code",
   "execution_count": 17,
   "id": "86ec3ad6",
   "metadata": {},
   "outputs": [
    {
     "data": {
      "text/html": [
       "<div>\n",
       "<style scoped>\n",
       "    .dataframe tbody tr th:only-of-type {\n",
       "        vertical-align: middle;\n",
       "    }\n",
       "\n",
       "    .dataframe tbody tr th {\n",
       "        vertical-align: top;\n",
       "    }\n",
       "\n",
       "    .dataframe thead th {\n",
       "        text-align: right;\n",
       "    }\n",
       "</style>\n",
       "<table border=\"1\" class=\"dataframe\">\n",
       "  <thead>\n",
       "    <tr style=\"text-align: right;\">\n",
       "      <th></th>\n",
       "      <th>name</th>\n",
       "      <th>id</th>\n",
       "      <th>minutes</th>\n",
       "      <th>contributor_id</th>\n",
       "      <th>submitted</th>\n",
       "      <th>tags</th>\n",
       "      <th>nutrition</th>\n",
       "      <th>n_steps</th>\n",
       "      <th>steps</th>\n",
       "      <th>description</th>\n",
       "      <th>ingredients</th>\n",
       "      <th>n_ingredients</th>\n",
       "    </tr>\n",
       "  </thead>\n",
       "  <tbody>\n",
       "    <tr>\n",
       "      <th>144074</th>\n",
       "      <td>no bake granola balls</td>\n",
       "      <td>261647</td>\n",
       "      <td>2147483647</td>\n",
       "      <td>464080</td>\n",
       "      <td>2007-10-26</td>\n",
       "      <td>['60-minutes-or-less', 'time-to-make', 'course...</td>\n",
       "      <td>[330.3, 23.0, 110.0, 4.0, 15.0, 24.0, 15.0]</td>\n",
       "      <td>9</td>\n",
       "      <td>['preheat the oven to 350 degrees', 'spread oa...</td>\n",
       "      <td>healthy snacks that kids (and grown ups) will ...</td>\n",
       "      <td>['rolled oats', 'unsweetened dried shredded co...</td>\n",
       "      <td>8</td>\n",
       "    </tr>\n",
       "    <tr>\n",
       "      <th>109624</th>\n",
       "      <td>how to preserve a husband</td>\n",
       "      <td>447963</td>\n",
       "      <td>1051200</td>\n",
       "      <td>576273</td>\n",
       "      <td>2011-02-01</td>\n",
       "      <td>['time-to-make', 'course', 'preparation', 'for...</td>\n",
       "      <td>[407.4, 57.0, 50.0, 1.0, 7.0, 115.0, 5.0]</td>\n",
       "      <td>9</td>\n",
       "      <td>['be careful in your selection', \"don't choose...</td>\n",
       "      <td>found this in a local wyoming cookbook \"a coll...</td>\n",
       "      <td>['cream', 'peach']</td>\n",
       "      <td>2</td>\n",
       "    </tr>\n",
       "  </tbody>\n",
       "</table>\n",
       "</div>"
      ],
      "text/plain": [
       "                             name      id     minutes  contributor_id  \\\n",
       "144074      no bake granola balls  261647  2147483647          464080   \n",
       "109624  how to preserve a husband  447963     1051200          576273   \n",
       "\n",
       "         submitted                                               tags  \\\n",
       "144074  2007-10-26  ['60-minutes-or-less', 'time-to-make', 'course...   \n",
       "109624  2011-02-01  ['time-to-make', 'course', 'preparation', 'for...   \n",
       "\n",
       "                                          nutrition  n_steps  \\\n",
       "144074  [330.3, 23.0, 110.0, 4.0, 15.0, 24.0, 15.0]        9   \n",
       "109624    [407.4, 57.0, 50.0, 1.0, 7.0, 115.0, 5.0]        9   \n",
       "\n",
       "                                                    steps  \\\n",
       "144074  ['preheat the oven to 350 degrees', 'spread oa...   \n",
       "109624  ['be careful in your selection', \"don't choose...   \n",
       "\n",
       "                                              description  \\\n",
       "144074  healthy snacks that kids (and grown ups) will ...   \n",
       "109624  found this in a local wyoming cookbook \"a coll...   \n",
       "\n",
       "                                              ingredients  n_ingredients  \n",
       "144074  ['rolled oats', 'unsweetened dried shredded co...              8  \n",
       "109624                                 ['cream', 'peach']              2  "
      ]
     },
     "execution_count": 17,
     "metadata": {},
     "output_type": "execute_result"
    }
   ],
   "source": [
    "# Méthode 1 : on utilise nlargest\n",
    "recipe.nlargest(2, \"minutes\", keep = 'first')"
   ]
  },
  {
   "cell_type": "raw",
   "id": "4e178b9a-a221-43e0-bb21-4662c660b497",
   "metadata": {},
   "source": [
    "La récette dont le temps de cuisson est le plus grand porte l'id numéro 144074.\n",
    "Ce temps de cuisson s'élève à 2147483647 soit 4085 ans."
   ]
  },
  {
   "cell_type": "code",
   "execution_count": 18,
   "id": "cd8e8806",
   "metadata": {},
   "outputs": [
    {
     "data": {
      "text/html": [
       "<div>\n",
       "<style scoped>\n",
       "    .dataframe tbody tr th:only-of-type {\n",
       "        vertical-align: middle;\n",
       "    }\n",
       "\n",
       "    .dataframe tbody tr th {\n",
       "        vertical-align: top;\n",
       "    }\n",
       "\n",
       "    .dataframe thead th {\n",
       "        text-align: right;\n",
       "    }\n",
       "</style>\n",
       "<table border=\"1\" class=\"dataframe\">\n",
       "  <thead>\n",
       "    <tr style=\"text-align: right;\">\n",
       "      <th></th>\n",
       "      <th>name</th>\n",
       "      <th>id</th>\n",
       "      <th>minutes</th>\n",
       "      <th>contributor_id</th>\n",
       "      <th>submitted</th>\n",
       "      <th>tags</th>\n",
       "      <th>nutrition</th>\n",
       "      <th>n_steps</th>\n",
       "      <th>steps</th>\n",
       "      <th>description</th>\n",
       "      <th>ingredients</th>\n",
       "      <th>n_ingredients</th>\n",
       "    </tr>\n",
       "  </thead>\n",
       "  <tbody>\n",
       "    <tr>\n",
       "      <th>144074</th>\n",
       "      <td>no bake granola balls</td>\n",
       "      <td>261647</td>\n",
       "      <td>2147483647</td>\n",
       "      <td>464080</td>\n",
       "      <td>2007-10-26</td>\n",
       "      <td>['60-minutes-or-less', 'time-to-make', 'course...</td>\n",
       "      <td>[330.3, 23.0, 110.0, 4.0, 15.0, 24.0, 15.0]</td>\n",
       "      <td>9</td>\n",
       "      <td>['preheat the oven to 350 degrees', 'spread oa...</td>\n",
       "      <td>healthy snacks that kids (and grown ups) will ...</td>\n",
       "      <td>['rolled oats', 'unsweetened dried shredded co...</td>\n",
       "      <td>8</td>\n",
       "    </tr>\n",
       "  </tbody>\n",
       "</table>\n",
       "</div>"
      ],
      "text/plain": [
       "                         name      id     minutes  contributor_id   submitted  \\\n",
       "144074  no bake granola balls  261647  2147483647          464080  2007-10-26   \n",
       "\n",
       "                                                     tags  \\\n",
       "144074  ['60-minutes-or-less', 'time-to-make', 'course...   \n",
       "\n",
       "                                          nutrition  n_steps  \\\n",
       "144074  [330.3, 23.0, 110.0, 4.0, 15.0, 24.0, 15.0]        9   \n",
       "\n",
       "                                                    steps  \\\n",
       "144074  ['preheat the oven to 350 degrees', 'spread oa...   \n",
       "\n",
       "                                              description  \\\n",
       "144074  healthy snacks that kids (and grown ups) will ...   \n",
       "\n",
       "                                              ingredients  n_ingredients  \n",
       "144074  ['rolled oats', 'unsweetened dried shredded co...              8  "
      ]
     },
     "execution_count": 18,
     "metadata": {},
     "output_type": "execute_result"
    }
   ],
   "source": [
    "# Méthode 2 : on utilise .loc\n",
    "recipe.loc[recipe['minutes'] == recipe[\"minutes\"].max()]"
   ]
  },
  {
   "cell_type": "markdown",
   "id": "ddac6d2c",
   "metadata": {},
   "source": [
    "### Print the number of row(s) of the dataframe corresponding to the minimum value for minutes"
   ]
  },
  {
   "cell_type": "raw",
   "id": "d591eb27-b833-4be5-b08f-c5b96fd4e2bb",
   "metadata": {},
   "source": [
    "Extraire les observations correspondant à la valeur minimale de \"minutes\" sachant que ce minimum s'obtient \n",
    "recipe['minutes'].min()."
   ]
  },
  {
   "cell_type": "code",
   "execution_count": 19,
   "id": "01050bd8",
   "metadata": {},
   "outputs": [
    {
     "data": {
      "text/html": [
       "<div>\n",
       "<style scoped>\n",
       "    .dataframe tbody tr th:only-of-type {\n",
       "        vertical-align: middle;\n",
       "    }\n",
       "\n",
       "    .dataframe tbody tr th {\n",
       "        vertical-align: top;\n",
       "    }\n",
       "\n",
       "    .dataframe thead th {\n",
       "        text-align: right;\n",
       "    }\n",
       "</style>\n",
       "<table border=\"1\" class=\"dataframe\">\n",
       "  <thead>\n",
       "    <tr style=\"text-align: right;\">\n",
       "      <th></th>\n",
       "      <th>name</th>\n",
       "      <th>id</th>\n",
       "      <th>minutes</th>\n",
       "      <th>contributor_id</th>\n",
       "      <th>submitted</th>\n",
       "      <th>tags</th>\n",
       "      <th>nutrition</th>\n",
       "      <th>n_steps</th>\n",
       "      <th>steps</th>\n",
       "      <th>description</th>\n",
       "      <th>ingredients</th>\n",
       "      <th>n_ingredients</th>\n",
       "    </tr>\n",
       "  </thead>\n",
       "  <tbody>\n",
       "    <tr>\n",
       "      <th>5</th>\n",
       "      <td>apple a day  milk shake</td>\n",
       "      <td>5289</td>\n",
       "      <td>0</td>\n",
       "      <td>1533</td>\n",
       "      <td>1999-12-06</td>\n",
       "      <td>['15-minutes-or-less', 'time-to-make', 'course...</td>\n",
       "      <td>[160.2, 10.0, 55.0, 3.0, 9.0, 20.0, 7.0]</td>\n",
       "      <td>4</td>\n",
       "      <td>['combine ingredients in blender', 'cover and ...</td>\n",
       "      <td>NaN</td>\n",
       "      <td>['milk', 'vanilla ice cream', 'frozen apple ju...</td>\n",
       "      <td>4</td>\n",
       "    </tr>\n",
       "  </tbody>\n",
       "</table>\n",
       "</div>"
      ],
      "text/plain": [
       "                      name    id  minutes  contributor_id   submitted  \\\n",
       "5  apple a day  milk shake  5289        0            1533  1999-12-06   \n",
       "\n",
       "                                                tags  \\\n",
       "5  ['15-minutes-or-less', 'time-to-make', 'course...   \n",
       "\n",
       "                                  nutrition  n_steps  \\\n",
       "5  [160.2, 10.0, 55.0, 3.0, 9.0, 20.0, 7.0]        4   \n",
       "\n",
       "                                               steps description  \\\n",
       "5  ['combine ingredients in blender', 'cover and ...         NaN   \n",
       "\n",
       "                                         ingredients  n_ingredients  \n",
       "5  ['milk', 'vanilla ice cream', 'frozen apple ju...              4  "
      ]
     },
     "execution_count": 19,
     "metadata": {},
     "output_type": "execute_result"
    }
   ],
   "source": [
    "# Méthode 1 : on utilise la fonction \"min()\"\n",
    "recipe[recipe['minutes']==recipe['minutes'].min()].head(1)"
   ]
  },
  {
   "cell_type": "code",
   "execution_count": 20,
   "id": "dd5c928f",
   "metadata": {},
   "outputs": [
    {
     "data": {
      "text/html": [
       "<div>\n",
       "<style scoped>\n",
       "    .dataframe tbody tr th:only-of-type {\n",
       "        vertical-align: middle;\n",
       "    }\n",
       "\n",
       "    .dataframe tbody tr th {\n",
       "        vertical-align: top;\n",
       "    }\n",
       "\n",
       "    .dataframe thead th {\n",
       "        text-align: right;\n",
       "    }\n",
       "</style>\n",
       "<table border=\"1\" class=\"dataframe\">\n",
       "  <thead>\n",
       "    <tr style=\"text-align: right;\">\n",
       "      <th></th>\n",
       "      <th>name</th>\n",
       "      <th>id</th>\n",
       "      <th>minutes</th>\n",
       "      <th>contributor_id</th>\n",
       "      <th>submitted</th>\n",
       "      <th>tags</th>\n",
       "      <th>nutrition</th>\n",
       "      <th>n_steps</th>\n",
       "      <th>steps</th>\n",
       "      <th>description</th>\n",
       "      <th>ingredients</th>\n",
       "      <th>n_ingredients</th>\n",
       "    </tr>\n",
       "  </thead>\n",
       "  <tbody>\n",
       "    <tr>\n",
       "      <th>5</th>\n",
       "      <td>apple a day  milk shake</td>\n",
       "      <td>5289</td>\n",
       "      <td>0</td>\n",
       "      <td>1533</td>\n",
       "      <td>1999-12-06</td>\n",
       "      <td>['15-minutes-or-less', 'time-to-make', 'course...</td>\n",
       "      <td>[160.2, 10.0, 55.0, 3.0, 9.0, 20.0, 7.0]</td>\n",
       "      <td>4</td>\n",
       "      <td>['combine ingredients in blender', 'cover and ...</td>\n",
       "      <td>NaN</td>\n",
       "      <td>['milk', 'vanilla ice cream', 'frozen apple ju...</td>\n",
       "      <td>4</td>\n",
       "    </tr>\n",
       "  </tbody>\n",
       "</table>\n",
       "</div>"
      ],
      "text/plain": [
       "                      name    id  minutes  contributor_id   submitted  \\\n",
       "5  apple a day  milk shake  5289        0            1533  1999-12-06   \n",
       "\n",
       "                                                tags  \\\n",
       "5  ['15-minutes-or-less', 'time-to-make', 'course...   \n",
       "\n",
       "                                  nutrition  n_steps  \\\n",
       "5  [160.2, 10.0, 55.0, 3.0, 9.0, 20.0, 7.0]        4   \n",
       "\n",
       "                                               steps description  \\\n",
       "5  ['combine ingredients in blender', 'cover and ...         NaN   \n",
       "\n",
       "                                         ingredients  n_ingredients  \n",
       "5  ['milk', 'vanilla ice cream', 'frozen apple ju...              4  "
      ]
     },
     "execution_count": 20,
     "metadata": {},
     "output_type": "execute_result"
    }
   ],
   "source": [
    "# Méthode 2 : on utilise la fonction \"nsmallest\" et on affiche 5 observations.\n",
    "recipe.nsmallest(1, \"minutes\", keep = 'first')"
   ]
  },
  {
   "cell_type": "code",
   "execution_count": 21,
   "id": "51fb0907",
   "metadata": {},
   "outputs": [
    {
     "name": "stdout",
     "output_type": "stream",
     "text": [
      "Dans la base de donnee Recipe, Il y'a 1094 observations (récettes) ayant un temps de cuisson nul.\n"
     ]
    }
   ],
   "source": [
    "print(\"Dans la base de donnee Recipe, Il y'a\", len(recipe[recipe['minutes']==recipe['minutes'].min()]), \"observations (récettes) ayant un temps de cuisson nul.\")"
   ]
  },
  {
   "cell_type": "markdown",
   "id": "d53dffcc",
   "metadata": {},
   "source": [
    "### Choose an appropriate visualisation to highlight these outliers \n"
   ]
  },
  {
   "cell_type": "raw",
   "id": "44961174-5b6f-4310-89b7-bf43f70df999",
   "metadata": {},
   "source": [
    "La visualisation appropriée pour voir les outliers est le boxplot."
   ]
  },
  {
   "cell_type": "code",
   "execution_count": 22,
   "id": "3de63249-d4b0-45e4-b621-f3b8e9242f30",
   "metadata": {},
   "outputs": [],
   "source": [
    "# Boxplot de \"minutes\""
   ]
  },
  {
   "cell_type": "code",
   "execution_count": 23,
   "id": "d9d789fc",
   "metadata": {},
   "outputs": [
    {
     "data": {
      "text/plain": [
       "Text(0.5, 1.0, \"Histogramme de la variable 'minutes'\")"
      ]
     },
     "execution_count": 23,
     "metadata": {},
     "output_type": "execute_result"
    },
    {
     "data": {
      "image/png": "[encoded data removed]",
      "text/plain": [
       "<Figure size 640x480 with 1 Axes>"
      ]
     },
     "metadata": {},
     "output_type": "display_data"
    }
   ],
   "source": [
    "# Histogramme de la variable \"minutes\"\n",
    "recipe['minutes'].hist()\n",
    "plt.title(\"Histogramme de la variable 'minutes'\")"
   ]
  },
  {
   "cell_type": "markdown",
   "id": "1028748a-2bbf-415b-af3e-1af8dde716d3",
   "metadata": {
    "tags": []
   },
   "source": [
    "## <span style='color:Blue'> Partie 3 : Traitement des données aberrantes  </span>"
   ]
  },
  {
   "cell_type": "markdown",
   "id": "f4bcbc61-7950-4303-8312-40e4279b583f",
   "metadata": {},
   "source": [
    "### Matplotlib\n",
    "\n",
    "#### Online Documentation\n",
    "\n",
    "The [matplotlib.org](https://matplotlib.org/) project website is the primary online resource for the library's documentation. It contains the example galleries, FAQs, API documentation, and tutorials.\n",
    "You can take a look at the [Gallery](https://matplotlib.org/stable/gallery/index.html) to see the variety of ways one can make figures."
   ]
  },
  {
   "cell_type": "markdown",
   "id": "b35e93e0-8e4a-450e-a232-c38923892861",
   "metadata": {},
   "source": [
    "#### Basics of Matplotlib\n",
    "\n",
    "Let's start by taking a closer look at the anatomy of a Matplolib plot by answering to the following questions. \n",
    "\n",
    "1. **What exactly is a Figure?** \n",
    "\n",
    "The top level container for all the plot elements. It is the overall window or page that everything is drawn on. The Figure object is instantiated by calling the `figure()` function from the pyplot module. You can create multiple independent Figures. A Figure can have several other things in it, such as a title, which is a centered title to the figure. You’ll also find that you can add a legend and color bar, for example, to your Figure.\n",
    "\n",
    "2. **What are the Axes?** \n",
    "\n",
    "To the figure you add Axes. Axes object is the region of the image with the data space. A given figure can contain many Axes, but a given Axes object can only be in one Figure. The Axes contains two (or three in the case of 3D visualisation) Axis objects (x and y). Axes can have ticks, labels, etc. associated with it.\n",
    "\n",
    "\n",
    "**Note** We have previously imported the `pyplot` module of the `matplotlib` library under the alias `plt`.\n",
    "Pyplot provides the state-machine interface to the underlying plotting library in matplotlib. This means that figures and axes are implicitly and automatically created to achieve the desired plot. For example, calling `plot` from `pyplot` will automatically create the necessary figure and axes to achieve the desired plot."
   ]
  },
  {
   "cell_type": "markdown",
   "id": "8b625c67-a023-4c50-b58a-5960996deddd",
   "metadata": {},
   "source": [
    "<img src=\"img/anatomy_01.png\" alt=\"anatomy of a figure\" />"
   ]
  },
  {
   "cell_type": "markdown",
   "id": "c001935c-f857-46c1-957b-b427360afdfe",
   "metadata": {},
   "source": [
    "Now that we have identified an abnormal values, what can we do with it? \n",
    "\n",
    "*Easy answer*: remove it ! (let's do this for now)\n",
    "\n",
    "*Fancy answer*: consider this as a missing data input and impute it (keep that for later).\n",
    "\n",
    "**Question**\n",
    "- <span style=\"color:blue\">Remove the recipe containing these abnormal values and check the new size of the data</span>\n",
    "- <span style=\"color:blue\">Print the 5 first observations for which abnormal values are observed. Comment</span>\n",
    "- <span style=\"color:blue\">Propose a strategy to deal with these observations.</span>\n",
    "- <span style=\"color:blue\">In total how many observations have you removed?</span>"
   ]
  },
  {
   "cell_type": "markdown",
   "id": "ffe25d07-8c1f-46e9-8ea4-8f5711e328f7",
   "metadata": {},
   "source": [
    "### Remove the recipe containing these abnormal values and check the new size of the data"
   ]
  },
  {
   "cell_type": "raw",
   "id": "1b0e1680-299c-4789-9383-5ee5a1d53a91",
   "metadata": {},
   "source": [
    "Dire qu'une récette se cuit en 0 minute n'a pas de sens ET le temps maximal de cuisson est aussi iraisonable.\n",
    "Donc, on supprime ses obervations."
   ]
  },
  {
   "cell_type": "code",
   "execution_count": 24,
   "id": "cf848e9f-97d4-486d-80e3-99b77c3d5dfc",
   "metadata": {},
   "outputs": [],
   "source": [
    "# On récupére les \"index\" des observations lorsque la variable \"minutes\" est égale à 0mn, 1mn et max.\n",
    "indexNames_0_max = recipe[(recipe['minutes']==0) & (recipe['minutes'].max())].index\n",
    "index_1minute = recipe[recipe['minutes']==1].index"
   ]
  },
  {
   "cell_type": "code",
   "execution_count": 25,
   "id": "0d5da38a-a3a6-4db4-9be8-0311388e28ab",
   "metadata": {},
   "outputs": [],
   "source": [
    "# On supprime ces observations\n",
    "recipe.drop(indexNames_0_max, inplace=True)\n",
    "recipe.drop(index_1minute, inplace=True)"
   ]
  },
  {
   "cell_type": "code",
   "execution_count": 26,
   "id": "26a3a4fb-769b-40f0-a6fd-b8f6761066a7",
   "metadata": {},
   "outputs": [
    {
     "name": "stdout",
     "output_type": "stream",
     "text": [
      "Le nombre d'observations de Recipe devient 230001 au lieu de 231 637 que précédemment.\n"
     ]
    }
   ],
   "source": [
    "print(\"Le nombre d'observations de Recipe devient\", recipe.shape[0], \"au lieu de 231 637 que précédemment.\")"
   ]
  },
  {
   "cell_type": "markdown",
   "id": "90f5cb17-a5bf-47c6-b0f5-37e5fac404ca",
   "metadata": {},
   "source": [
    "### Check the new maximum and minimum"
   ]
  },
  {
   "cell_type": "code",
   "execution_count": 27,
   "id": "f57c6111-ea15-4c19-92c6-787323b6616f",
   "metadata": {},
   "outputs": [
    {
     "name": "stdout",
     "output_type": "stream",
     "text": [
      "Le nouveau minimum de la variable \"minutes\" est : 2 minute.\n",
      "Le nouveau maximum de la variable \"minutes\" est : 2147483647\n",
      "Cela reste énorme comme temps de cuisson !\n"
     ]
    }
   ],
   "source": [
    "print(\"Le nouveau minimum de la variable \\\"minutes\\\" est :\", recipe['minutes'].min(),\"minute.\")\n",
    "print(\"Le nouveau maximum de la variable \\\"minutes\\\" est :\", recipe['minutes'].max())\n",
    "print(\"Cela reste énorme comme temps de cuisson !\")"
   ]
  },
  {
   "cell_type": "markdown",
   "id": "b466e93a-069b-44fe-a616-e2bb6188e2f4",
   "metadata": {},
   "source": [
    "### In total how many observations have you removed ?"
   ]
  },
  {
   "cell_type": "raw",
   "id": "e40c7cee-b501-4cb7-bc87-5a623f2e9627",
   "metadata": {},
   "source": [
    "Gardez les données dont \"minutes\" ne dépasse pas 1 mois."
   ]
  },
  {
   "cell_type": "code",
   "execution_count": 28,
   "id": "21d5d63a",
   "metadata": {},
   "outputs": [
    {
     "name": "stdout",
     "output_type": "stream",
     "text": [
      "Enfin, le nombre d'observations de Recipe est 229945\n",
      "On a supprimé 1692 observations.\n"
     ]
    }
   ],
   "source": [
    "# On décide de ne garder que les donnees dont la variable \"minutes\" ne depasse pas 1 mois.\n",
    "recipe = recipe.loc[recipe['minutes'] <= 43800]\n",
    "print(\"Enfin, le nombre d'observations de Recipe est\", recipe.shape[0])\n",
    "print(\"On a supprimé 1692 observations.\")"
   ]
  },
  {
   "cell_type": "code",
   "execution_count": 29,
   "id": "7a80b675",
   "metadata": {},
   "outputs": [
    {
     "data": {
      "image/png": "[encoded data removed]",
      "text/plain": [
       "<Figure size 640x480 with 1 Axes>"
      ]
     },
     "metadata": {},
     "output_type": "display_data"
    }
   ],
   "source": [
    "# On refait la Boxplot de la variable \"minutes\"\n",
    "sns.boxplot(recipe['minutes'], sym = 'o', palette=\"Set1\") #palette = colorie la boite\n",
    "plt.title(\"Boxplot de la variable 'minutes'\", color='red')\n",
    "plt.gca().xaxis.set_ticklabels(['minutes'])\n",
    "plt.tight_layout()\n",
    "plt.yscale('log') #l'axe des ordonnees en échelle logarithmique \n",
    "plt.show()"
   ]
  },
  {
   "cell_type": "markdown",
   "id": "206c7479-cd01-4f90-bf9c-2fa0e7170538",
   "metadata": {},
   "source": [
    "### Plot the variable minutes with a boxplot -- this time you can try seaborn!"
   ]
  },
  {
   "cell_type": "code",
   "execution_count": 30,
   "id": "476e326c",
   "metadata": {},
   "outputs": [
    {
     "data": {
      "text/plain": [
       "<Axes: >"
      ]
     },
     "execution_count": 30,
     "metadata": {},
     "output_type": "execute_result"
    },
    {
     "data": {
      "image/png": "[encoded data removed]",
      "text/plain": [
       "<Figure size 640x480 with 1 Axes>"
      ]
     },
     "metadata": {},
     "output_type": "display_data"
    }
   ],
   "source": [
    "# Plot the variable minutes with a boxplot -- this time you can try seaborn!\n",
    "sns.boxplot(recipe['minutes'])"
   ]
  },
  {
   "cell_type": "markdown",
   "id": "f58a6c7f",
   "metadata": {},
   "source": [
    "Comments: "
   ]
  },
  {
   "cell_type": "raw",
   "id": "d7fbc9d5-9ba7-4dca-bfc7-6e70fe282820",
   "metadata": {},
   "source": [
    "Compte tenu des valeurs très élevées de la variable 'minutes', la Boxplot ne s'affiche pas correctement."
   ]
  },
  {
   "cell_type": "markdown",
   "id": "d0e34086",
   "metadata": {},
   "source": [
    "So in this particular case, boxplot suffers from the very high standard deviation observed for the feature minutes. \n",
    "Can we come up with a better visualisation ? \n",
    "\n",
    "- **Option 1**: use a log-scale on the y axis the feature\n",
    "- **Option 2**: remove a lot of values\n",
    "\n",
    "**Questions**: "
   ]
  },
  {
   "cell_type": "markdown",
   "id": "347d95ed-9434-4d74-82b3-570416503ba9",
   "metadata": {},
   "source": [
    "### <span style=\"color:blue\"> Print the values of the different quartile (Q1, median and Q3). What can you conclude for this variable ? </span>"
   ]
  },
  {
   "cell_type": "code",
   "execution_count": 31,
   "id": "8fb8c61d-419d-4d56-965f-a2e7f34d0315",
   "metadata": {},
   "outputs": [
    {
     "name": "stdout",
     "output_type": "stream",
     "text": [
      "Le premier quartile Q1 vaut :  20 mn\n"
     ]
    }
   ],
   "source": [
    "# Premier quartile Q1\n",
    "Q1 = round(np.percentile(recipe['minutes'], 25))\n",
    "print(\"Le premier quartile Q1 vaut : \", Q1, \"mn\")"
   ]
  },
  {
   "cell_type": "code",
   "execution_count": 32,
   "id": "5505b3b9-9878-4845-a9c6-d4239897bb2e",
   "metadata": {},
   "outputs": [
    {
     "name": "stdout",
     "output_type": "stream",
     "text": [
      "Le second quartile Q3 vaut :  65 mn\n"
     ]
    }
   ],
   "source": [
    "# Troisième quartile Q3\n",
    "Q3 = round(np.percentile(recipe['minutes'], 75))\n",
    "print(\"Le second quartile Q3 vaut : \", Q3, \"mn\")"
   ]
  },
  {
   "cell_type": "code",
   "execution_count": 33,
   "id": "dbd6250b-0dd1-48ce-967f-10bcc99edff2",
   "metadata": {},
   "outputs": [],
   "source": [
    "# Q1 = 20 minutes signifie que 75% des recettes mettent au dessus de 20 mn alors que 25% ont \n",
    "# un temps inférieur à 20 mn.\n",
    "# Q3 = 65 minutes signifie 75% des recettes mettent en dessous de 1h5 mn alors que 25% ont \n",
    "# un temps inférieur à 1h5 mn."
   ]
  },
  {
   "cell_type": "markdown",
   "id": "a72b3f67-ed72-4a27-863e-3df2d3fb7e8a",
   "metadata": {},
   "source": [
    "### <span style=\"color:blue\">  Compare the mean with the median. What do you observe? </span>"
   ]
  },
  {
   "cell_type": "code",
   "execution_count": 34,
   "id": "cae1d6d9-d57d-492d-92c6-73a6f78340ae",
   "metadata": {},
   "outputs": [
    {
     "name": "stdout",
     "output_type": "stream",
     "text": [
      "Le temps median est 40 mn.\n"
     ]
    }
   ],
   "source": [
    "# Médiane = deuxième quartile (Q2)\n",
    "Mediane = round(np.percentile(recipe['minutes'], 50))\n",
    "print(\"Le temps median est\", Mediane, \"mn.\")"
   ]
  },
  {
   "cell_type": "code",
   "execution_count": 35,
   "id": "4e43ae1e-15ec-4dba-823e-9d62f43e1ead",
   "metadata": {},
   "outputs": [
    {
     "name": "stdout",
     "output_type": "stream",
     "text": [
      "Le temps moyen de cuisson est de 1 heures et 39 minutes !\n",
      "Ce temps moyen est tiré vers le haut par les grandes valeurs de la variable 'minutes'.\n"
     ]
    }
   ],
   "source": [
    "hoursM = recipe['minutes'].mean() // 60\n",
    "minutesM = recipe['minutes'].mean() % 60\n",
    "print(\"Le temps moyen de cuisson est de {} heures et {} minutes !\".format(round(hoursM), round(minutesM)))\n",
    "print(\"Ce temps moyen est tiré vers le haut par les grandes valeurs de la variable 'minutes'.\")"
   ]
  },
  {
   "cell_type": "code",
   "execution_count": 36,
   "id": "0af4eaac-4875-4f91-bc84-dc596d1508a5",
   "metadata": {},
   "outputs": [
    {
     "name": "stdout",
     "output_type": "stream",
     "text": [
      "Le temps moyen est fortement influé par les grandes valeurs de \"minutes\".\n",
      "On constate un écart presque d'une heure entre le temps moyen et le temps médian.\n",
      "Dans ce cas de figure, on se refère plutôt au temps median de recette que le temps moyen.\n"
     ]
    }
   ],
   "source": [
    "print(\"Le temps moyen est fortement influé par les grandes valeurs de \\\"minutes\\\".\")\n",
    "print(\"On constate un écart presque d'une heure entre le temps moyen et le temps médian.\")\n",
    "print(\"Dans ce cas de figure, on se refère plutôt au temps median de recette que le temps moyen.\")"
   ]
  },
  {
   "cell_type": "markdown",
   "id": "3aa2a0db-b54b-44ad-8510-93f178d9858e",
   "metadata": {},
   "source": [
    "### <span style=\"color:blue\">Create a subplot with on the left the original boxplot, and on the right the same boxplot but with a log scale on the y-axis.</span> "
   ]
  },
  {
   "cell_type": "code",
   "execution_count": 37,
   "id": "5d48c36c-177e-40cc-9fc3-964d7215e6c0",
   "metadata": {},
   "outputs": [
    {
     "data": {
      "image/png": "[encoded data removed]",
      "text/plain": [
       "<Figure size 1200x400 with 2 Axes>"
      ]
     },
     "metadata": {},
     "output_type": "display_data"
    }
   ],
   "source": [
    "plt.figure(figsize=(12, 4))  # Ajustez la taille de la figure au besoin\n",
    "plt.subplots_adjust(wspace=0.4)  # Ajustez l'espacement entre les graphiques\n",
    "\n",
    "#Figure 1\n",
    "# Créez le premier graphique (à gauche)\n",
    "plt.subplot(1, 2, 1)  # 1 ligne, 2 colonnes, premier graphique\n",
    "sns.boxplot(recipe['minutes'])\n",
    "plt.title(\"Boxplot sans changement d'échelle\")\n",
    "\n",
    "#Figure 2\n",
    "# Créez le premier graphique (à droite)\n",
    "plt.subplot(1, 2, 2)  \n",
    "sns.boxplot(recipe['minutes'])\n",
    "plt.title(\"Boxplot avec changement d'échelle\")\n",
    "plt.yscale('log') \n",
    "plt.show()"
   ]
  },
  {
   "cell_type": "markdown",
   "id": "59391b3d",
   "metadata": {},
   "source": [
    "#### Subplots\n",
    "\n",
    "The matplotlib.pyplot.subplots method provides a way to plot multiple plots on a single figure. Given the number of rows and columns, it returns a tuple `(fig, ax`), giving a single figure `fig` with an array of axe `ax`.\n",
    "\n",
    "There is at least three different ways to create a subplot and to add plots to each created ax (dig in the documentation). \n",
    "More details on the different arguments of the `subplots` method [here](https://www.educative.io/edpresso/what-is-a-subplots-in-matplotlib)."
   ]
  },
  {
   "cell_type": "markdown",
   "id": "3b1ab3ef",
   "metadata": {},
   "source": [
    "#### Summing-up: \n",
    "\n",
    "Comments."
   ]
  },
  {
   "cell_type": "markdown",
   "id": "649bfb11",
   "metadata": {},
   "source": [
    "For now let's keep it this way. We will go back to this matter in the feature engineering session.\n",
    "\n",
    "Now we can complete this analysis with distribution metrics, namely the skewness and the kurtosis coefficient. "
   ]
  },
  {
   "cell_type": "markdown",
   "id": "e273c835",
   "metadata": {},
   "source": [
    "## <span style=\"color:blue\"> Analyse univariée de la variable \"contributor_id\" </span>\n",
    "\n",
    "You are now ready to propose your own analysis for the other variables. \n",
    "Consider the following variables: **contributor_id, tags, n_steps, n_ingredients and ingredients**. \n",
    "The first step is to formulate questions that you would like to answer to using these variables. \n",
    "\n",
    "For example, if we take the contributor_id, please answer the following questions using the varying tools seen during the class. \n",
    "\n",
    "**Questions**\n",
    "Start with these three questions, then think about questions for the remaining variables mentioned above. "
   ]
  },
  {
   "cell_type": "markdown",
   "id": "6d346bfd-ff80-401a-b99d-a9c719e9d50e",
   "metadata": {},
   "source": [
    "### How many unique contributors are there?"
   ]
  },
  {
   "cell_type": "code",
   "execution_count": 38,
   "id": "9dac70cd-dc41-4aa3-8421-bfbadfd5778d",
   "metadata": {},
   "outputs": [
    {
     "name": "stdout",
     "output_type": "stream",
     "text": [
      "L'unique contributeur a cet identifiant : 27831\n"
     ]
    }
   ],
   "source": [
    "print(\"L'unique contributeur a cet identifiant :\", recipe['contributor_id'].nunique())"
   ]
  },
  {
   "cell_type": "markdown",
   "id": "7c84e1d7-1371-432e-977e-60766dcd86b5",
   "metadata": {},
   "source": [
    "### Who is the contributor that posted the most recipes ? And how many recipes did that person posted ?"
   ]
  },
  {
   "cell_type": "code",
   "execution_count": 39,
   "id": "b66898c6-2a86-43c2-874f-d05bbee35cb9",
   "metadata": {},
   "outputs": [],
   "source": [
    "# convertir contributor_id en catégorie avec astype"
   ]
  },
  {
   "cell_type": "code",
   "execution_count": 40,
   "id": "c9de2238-49a8-40ef-9d08-331da510444d",
   "metadata": {},
   "outputs": [
    {
     "data": {
      "text/plain": [
       "89831      3107\n",
       "37779      2553\n",
       "37449      2492\n",
       "58104      1518\n",
       "1533       1471\n",
       "           ... \n",
       "438645        1\n",
       "304753        1\n",
       "350975        1\n",
       "11016         1\n",
       "1500678       1\n",
       "Name: contributor_id, Length: 27831, dtype: int64"
      ]
     },
     "execution_count": 40,
     "metadata": {},
     "output_type": "execute_result"
    }
   ],
   "source": [
    "recipe['contributor_id'].value_counts()"
   ]
  },
  {
   "cell_type": "code",
   "execution_count": 41,
   "id": "bb7bbd3a-c7c2-4720-9fd3-942e736ea507",
   "metadata": {},
   "outputs": [
    {
     "name": "stdout",
     "output_type": "stream",
     "text": [
      "Le plus grand contributeur à cet identifiant: 89831 et sa contribution s'élève à 3107 soit 1.35 %\n"
     ]
    }
   ],
   "source": [
    "print(\"Le plus grand contributeur à cet identifiant:\", recipe['contributor_id'].value_counts().index[0],\n",
    "     \"et sa contribution s'élève à 3107 soit\", round(len(recipe[recipe['contributor_id']==89831])*100/recipe.shape[0],2), \"%\")"
   ]
  },
  {
   "cell_type": "code",
   "execution_count": 42,
   "id": "0e11149a-438f-449e-a0d0-94f7b2fcd5f1",
   "metadata": {},
   "outputs": [
    {
     "data": {
      "text/html": [
       "<div>\n",
       "<style scoped>\n",
       "    .dataframe tbody tr th:only-of-type {\n",
       "        vertical-align: middle;\n",
       "    }\n",
       "\n",
       "    .dataframe tbody tr th {\n",
       "        vertical-align: top;\n",
       "    }\n",
       "\n",
       "    .dataframe thead th {\n",
       "        text-align: right;\n",
       "    }\n",
       "</style>\n",
       "<table border=\"1\" class=\"dataframe\">\n",
       "  <thead>\n",
       "    <tr style=\"text-align: right;\">\n",
       "      <th></th>\n",
       "      <th>name</th>\n",
       "      <th>id</th>\n",
       "      <th>minutes</th>\n",
       "      <th>contributor_id</th>\n",
       "      <th>submitted</th>\n",
       "      <th>tags</th>\n",
       "      <th>nutrition</th>\n",
       "      <th>n_steps</th>\n",
       "      <th>steps</th>\n",
       "      <th>description</th>\n",
       "      <th>ingredients</th>\n",
       "      <th>n_ingredients</th>\n",
       "    </tr>\n",
       "  </thead>\n",
       "  <tbody>\n",
       "    <tr>\n",
       "      <th>144</th>\n",
       "      <td>add in anything  muffins</td>\n",
       "      <td>149593</td>\n",
       "      <td>15</td>\n",
       "      <td>89831</td>\n",
       "      <td>2005-12-28</td>\n",
       "      <td>['15-minutes-or-less', 'time-to-make', 'course...</td>\n",
       "      <td>[209.3, 18.0, 44.0, 8.0, 5.0, 36.0, 7.0]</td>\n",
       "      <td>10</td>\n",
       "      <td>['set oven to 400 degrees', 'set oven rack to ...</td>\n",
       "      <td>this is a never-fail muffin recipe, it's a bla...</td>\n",
       "      <td>['flour', 'sugar', 'baking powder', 'baking so...</td>\n",
       "      <td>9</td>\n",
       "    </tr>\n",
       "    <tr>\n",
       "      <th>145</th>\n",
       "      <td>almost   dairy queen blizzard ice cream cake</td>\n",
       "      <td>227924</td>\n",
       "      <td>300</td>\n",
       "      <td>89831</td>\n",
       "      <td>2007-05-14</td>\n",
       "      <td>['course', 'main-ingredient', 'preparation', '...</td>\n",
       "      <td>[455.3, 37.0, 158.0, 13.0, 11.0, 57.0, 19.0]</td>\n",
       "      <td>11</td>\n",
       "      <td>['prepare a 13 x 9-inch pan', 'for the crust',...</td>\n",
       "      <td>just wait until you taste this, it is so easy ...</td>\n",
       "      <td>['oreo cookies', 'vanilla ice cream', 'frozen ...</td>\n",
       "      <td>4</td>\n",
       "    </tr>\n",
       "    <tr>\n",
       "      <th>222</th>\n",
       "      <td>kicked up  oven fried chicken</td>\n",
       "      <td>141939</td>\n",
       "      <td>345</td>\n",
       "      <td>89831</td>\n",
       "      <td>2005-10-19</td>\n",
       "      <td>['time-to-make', 'course', 'main-ingredient', ...</td>\n",
       "      <td>[215.0, 17.0, 14.0, 15.0, 13.0, 22.0, 7.0]</td>\n",
       "      <td>13</td>\n",
       "      <td>['in a large bowl whisk the buttermilk , oil ,...</td>\n",
       "      <td>i make mine on one cookie rack placed on a bak...</td>\n",
       "      <td>['buttermilk', 'oil', 'hot pepper sauce', 'dij...</td>\n",
       "      <td>17</td>\n",
       "    </tr>\n",
       "  </tbody>\n",
       "</table>\n",
       "</div>"
      ],
      "text/plain": [
       "                                             name      id  minutes  \\\n",
       "144                      add in anything  muffins  149593       15   \n",
       "145  almost   dairy queen blizzard ice cream cake  227924      300   \n",
       "222                 kicked up  oven fried chicken  141939      345   \n",
       "\n",
       "     contributor_id   submitted  \\\n",
       "144           89831  2005-12-28   \n",
       "145           89831  2007-05-14   \n",
       "222           89831  2005-10-19   \n",
       "\n",
       "                                                  tags  \\\n",
       "144  ['15-minutes-or-less', 'time-to-make', 'course...   \n",
       "145  ['course', 'main-ingredient', 'preparation', '...   \n",
       "222  ['time-to-make', 'course', 'main-ingredient', ...   \n",
       "\n",
       "                                        nutrition  n_steps  \\\n",
       "144      [209.3, 18.0, 44.0, 8.0, 5.0, 36.0, 7.0]       10   \n",
       "145  [455.3, 37.0, 158.0, 13.0, 11.0, 57.0, 19.0]       11   \n",
       "222    [215.0, 17.0, 14.0, 15.0, 13.0, 22.0, 7.0]       13   \n",
       "\n",
       "                                                 steps  \\\n",
       "144  ['set oven to 400 degrees', 'set oven rack to ...   \n",
       "145  ['prepare a 13 x 9-inch pan', 'for the crust',...   \n",
       "222  ['in a large bowl whisk the buttermilk , oil ,...   \n",
       "\n",
       "                                           description  \\\n",
       "144  this is a never-fail muffin recipe, it's a bla...   \n",
       "145  just wait until you taste this, it is so easy ...   \n",
       "222  i make mine on one cookie rack placed on a bak...   \n",
       "\n",
       "                                           ingredients  n_ingredients  \n",
       "144  ['flour', 'sugar', 'baking powder', 'baking so...              9  \n",
       "145  ['oreo cookies', 'vanilla ice cream', 'frozen ...              4  \n",
       "222  ['buttermilk', 'oil', 'hot pepper sauce', 'dij...             17  "
      ]
     },
     "execution_count": 42,
     "metadata": {},
     "output_type": "execute_result"
    }
   ],
   "source": [
    "#On visualise 3 de ces contributions\n",
    "recipe[recipe['contributor_id']==89831].head(3)"
   ]
  },
  {
   "cell_type": "markdown",
   "id": "b47682fc-1a4c-4d17-a013-84f51a3915e1",
   "metadata": {},
   "source": [
    "### What is the average number of recipes posted by users on the website ?"
   ]
  },
  {
   "cell_type": "code",
   "execution_count": 43,
   "id": "1fe58993-475d-4c34-8e48-fabef2e0a56e",
   "metadata": {},
   "outputs": [
    {
     "name": "stdout",
     "output_type": "stream",
     "text": [
      "Le nombre moyen de contribution est  8\n"
     ]
    }
   ],
   "source": [
    "print(\"Le nombre moyen de contribution est \", round(recipe['contributor_id'].value_counts().mean()))"
   ]
  },
  {
   "cell_type": "markdown",
   "id": "c55a3563-fff9-4e13-886d-c890af3e0b0c",
   "metadata": {},
   "source": [
    "## <font color='Blue'> Analyse univariée de la variable \"n_ingrédients\" </font>"
   ]
  },
  {
   "cell_type": "code",
   "execution_count": 44,
   "id": "5a4b74f9-1269-41fe-abdd-159e669313ee",
   "metadata": {},
   "outputs": [],
   "source": [
    "# \"n_ingredients\" correspond au nombre d'ingrédients utilisés."
   ]
  },
  {
   "cell_type": "code",
   "execution_count": 45,
   "id": "e4bb2ae1-191a-4d21-9862-bf4c2b6eefe0",
   "metadata": {},
   "outputs": [
    {
     "name": "stdout",
     "output_type": "stream",
     "text": [
      "Statistique descriptive du nombre d'ingrédients :\n",
      " count    229945.0\n",
      "mean          9.1\n",
      "std           3.7\n",
      "min           1.0\n",
      "25%           6.0\n",
      "50%           9.0\n",
      "75%          11.0\n",
      "max          43.0\n",
      "Name: n_ingredients, dtype: float64\n",
      "\n",
      "En moyenne, 9 ingrédients ont été utilisés.\n"
     ]
    }
   ],
   "source": [
    "# Statistique descriptive de \"n_ingredients\"\n",
    "print(\"Statistique descriptive du nombre d'ingrédients :\\n\", round(recipe['n_ingredients'].describe(), 1))\n",
    "print(\"\\nEn moyenne, 9 ingrédients ont été utilisés.\")"
   ]
  },
  {
   "cell_type": "code",
   "execution_count": 46,
   "id": "d903157c-835b-4ac8-a8e2-a903fcfd8dbf",
   "metadata": {},
   "outputs": [
    {
     "name": "stdout",
     "output_type": "stream",
     "text": [
      "Le nombre maximal d'ingrédients utilisé dans une recette est : 43.0\n",
      "Le nombre minimal d'ingrédients utilisé dans une recette est : 1.0\n"
     ]
    }
   ],
   "source": [
    "print(\"Le nombre maximal d'ingrédients utilisé dans une recette est :\", recipe['n_ingredients'].describe()[7])\n",
    "print(\"Le nombre minimal d'ingrédients utilisé dans une recette est :\", recipe['n_ingredients'].describe()[3])"
   ]
  },
  {
   "cell_type": "code",
   "execution_count": 47,
   "id": "53f8ad37-fefd-4cf0-b936-e2b26540807a",
   "metadata": {},
   "outputs": [
    {
     "data": {
      "text/html": [
       "<div>\n",
       "<style scoped>\n",
       "    .dataframe tbody tr th:only-of-type {\n",
       "        vertical-align: middle;\n",
       "    }\n",
       "\n",
       "    .dataframe tbody tr th {\n",
       "        vertical-align: top;\n",
       "    }\n",
       "\n",
       "    .dataframe thead th {\n",
       "        text-align: right;\n",
       "    }\n",
       "</style>\n",
       "<table border=\"1\" class=\"dataframe\">\n",
       "  <thead>\n",
       "    <tr style=\"text-align: right;\">\n",
       "      <th></th>\n",
       "      <th>n_ingredients</th>\n",
       "      <th>freq</th>\n",
       "      <th>%</th>\n",
       "    </tr>\n",
       "  </thead>\n",
       "  <tbody>\n",
       "    <tr>\n",
       "      <th>7</th>\n",
       "      <td>8</td>\n",
       "      <td>25354</td>\n",
       "      <td>11.03</td>\n",
       "    </tr>\n",
       "    <tr>\n",
       "      <th>8</th>\n",
       "      <td>9</td>\n",
       "      <td>24488</td>\n",
       "      <td>10.65</td>\n",
       "    </tr>\n",
       "    <tr>\n",
       "      <th>6</th>\n",
       "      <td>7</td>\n",
       "      <td>24446</td>\n",
       "      <td>10.63</td>\n",
       "    </tr>\n",
       "    <tr>\n",
       "      <th>9</th>\n",
       "      <td>10</td>\n",
       "      <td>22316</td>\n",
       "      <td>9.70</td>\n",
       "    </tr>\n",
       "    <tr>\n",
       "      <th>5</th>\n",
       "      <td>6</td>\n",
       "      <td>21690</td>\n",
       "      <td>9.43</td>\n",
       "    </tr>\n",
       "  </tbody>\n",
       "</table>\n",
       "</div>"
      ],
      "text/plain": [
       "   n_ingredients   freq      %\n",
       "7              8  25354  11.03\n",
       "8              9  24488  10.65\n",
       "6              7  24446  10.63\n",
       "9             10  22316   9.70\n",
       "5              6  21690   9.43"
      ]
     },
     "execution_count": 47,
     "metadata": {},
     "output_type": "execute_result"
    }
   ],
   "source": [
    "freq_ningredients = pd.DataFrame(recipe['n_ingredients'].value_counts().sort_index()).\\\n",
    "         reset_index().rename(columns={\"index\":\"n_ingredients\", \"n_ingredients\":\"freq\"})\n",
    "freq_ningredients = freq_ningredients.sort_values(by=\"freq\", ascending=False)\n",
    "freq_ningredients[\"%\"]=round(freq_ningredients[\"freq\"]*100/freq_ningredients[\"freq\"].sum(),2)\n",
    "freq_ningredients.head()"
   ]
  },
  {
   "cell_type": "code",
   "execution_count": 48,
   "id": "d634a448-9c61-457d-891c-da1386ae93a5",
   "metadata": {},
   "outputs": [
    {
     "name": "stdout",
     "output_type": "stream",
     "text": [
      "Le nombre d'ingrédients moyen est 8, cela représente 11,03%\n"
     ]
    }
   ],
   "source": [
    "print(\"Le nombre d'ingrédients moyen est 8, cela représente 11,03%\")"
   ]
  },
  {
   "cell_type": "markdown",
   "id": "9e0a6bf0-4d9f-4093-b418-6311bf2b1762",
   "metadata": {},
   "source": [
    "### Courbes de la variable \"nombre d'ingrédients\""
   ]
  },
  {
   "cell_type": "code",
   "execution_count": 49,
   "id": "7bb89543-60d5-4730-8f7f-4a55e1ab402c",
   "metadata": {},
   "outputs": [
    {
     "data": {
      "image/png": "[encoded data removed]",
      "text/plain": [
       "<Figure size 1200x400 with 2 Axes>"
      ]
     },
     "metadata": {},
     "output_type": "display_data"
    }
   ],
   "source": [
    "# Créez une figure et une grille de 1 ligne et 2 colonnes\n",
    "plt.figure(figsize=(12, 4))  # Ajustez la taille de la figure au besoin\n",
    "plt.subplots_adjust(wspace=0.4)  # Ajustez l'espacement entre les graphiques\n",
    "#Figure 1 : le premier graphique (à gauche)\n",
    "plt.subplot(1, 2, 1)\n",
    "sns.boxplot(recipe['n_ingredients'])\n",
    "plt.title(\"Boxplot du nombre d'ingrédients\")\n",
    "\n",
    "#Figure 2 : le premier graphique (à droite)\n",
    "plt.subplot(1, 2, 2)\n",
    "plt.plot(recipe['n_ingredients'].value_counts().sort_index(), label='nombre d ingrédients')\n",
    "plt.axvline(x=8, color = \"red\", linestyle='--', label='x=8')\n",
    "plt.title(\"Courbe du nombre d'ingrédients\")\n",
    "plt.legend()\n",
    "plt.show()"
   ]
  },
  {
   "cell_type": "markdown",
   "id": "8db7983d-fbae-4e49-a5db-f20008b08c8d",
   "metadata": {},
   "source": [
    "## <font color='Blue'> Analyse univariée de la variable \"ingrédients\" </font>"
   ]
  },
  {
   "cell_type": "markdown",
   "id": "eb9c02a4-24af-4398-b855-f9dfa15234b5",
   "metadata": {},
   "source": [
    "### Combien de personnes ont utilisés un seul ingrédient dans leur recette ?"
   ]
  },
  {
   "cell_type": "code",
   "execution_count": 50,
   "id": "7e877008-5983-4e2a-81ef-6112e6f132fc",
   "metadata": {},
   "outputs": [
    {
     "name": "stdout",
     "output_type": "stream",
     "text": [
      "Il y a 2006 clients qui ont utilisé deux incrédient.\n"
     ]
    }
   ],
   "source": [
    "print(\"Il y a\", len(recipe[recipe['n_ingredients']==2]), \"clients qui ont utilisé deux incrédient.\")"
   ]
  },
  {
   "cell_type": "markdown",
   "id": "668c55d9-ae97-4b36-9c14-dd7663cff9e7",
   "metadata": {},
   "source": [
    "### Combien de personnes ont utilisés les oeufs dans leurs recettes ?"
   ]
  },
  {
   "cell_type": "code",
   "execution_count": 51,
   "id": "4fc9f8b5-60f2-43cc-a2bb-6477b0ed163d",
   "metadata": {},
   "outputs": [
    {
     "data": {
      "text/plain": [
       "0    ['winter squash', 'mexican seasoning', 'mixed ...\n",
       "1    ['prepared pizza crust', 'sausage patty', 'egg...\n",
       "2    ['ground beef', 'yellow onions', 'diced tomato...\n",
       "3    ['spreadable cheese with garlic and herbs', 'n...\n",
       "Name: ingredients, dtype: object"
      ]
     },
     "execution_count": 51,
     "metadata": {},
     "output_type": "execute_result"
    }
   ],
   "source": [
    "recipe['ingredients'].head(4)"
   ]
  },
  {
   "cell_type": "code",
   "execution_count": 52,
   "id": "44bdcce2-2834-4199-93d0-7aa9857c1334",
   "metadata": {},
   "outputs": [],
   "source": [
    "recipe_eggs = recipe['ingredients'].str.contains('eggs')"
   ]
  },
  {
   "cell_type": "code",
   "execution_count": 53,
   "id": "f5093a4c-e0e5-4dd8-afb4-c03a8b37455c",
   "metadata": {},
   "outputs": [
    {
     "name": "stdout",
     "output_type": "stream",
     "text": [
      "Il y a  35117 personnes qui ont utilisés les oeufs dans leurs recettes.\n"
     ]
    }
   ],
   "source": [
    "print(\"Il y a \", len(recipe['ingredients'][recipe_eggs]), \"personnes qui ont utilisés les oeufs dans leurs recettes.\")"
   ]
  },
  {
   "cell_type": "markdown",
   "id": "93a6cf83-3148-4e54-9590-921c966cd8e5",
   "metadata": {},
   "source": [
    "## <font color='Blue'>Analyse univariée de la variable \"submitted\"</font>"
   ]
  },
  {
   "cell_type": "raw",
   "id": "505832fb-0870-4f16-a90e-c9b308f40dc3",
   "metadata": {},
   "source": [
    "'submitted' correspond à la date de soumission de récettes."
   ]
  },
  {
   "cell_type": "raw",
   "id": "70b2280c-90f9-4f23-8b10-c33237acd744",
   "metadata": {},
   "source": [
    "A l'aide de \".str.split()\", on extrait les années de soumission de recettes."
   ]
  },
  {
   "cell_type": "code",
   "execution_count": 54,
   "id": "2f4a7fb4-f641-417a-9d77-e5280f47986b",
   "metadata": {},
   "outputs": [
    {
     "name": "stdout",
     "output_type": "stream",
     "text": [
      "Le but étant de déterminer l'année oû il y'a plus et moins de soumission.\n"
     ]
    }
   ],
   "source": [
    "print(\"Le but étant de déterminer l'année oû il y'a plus et moins de soumission.\")"
   ]
  },
  {
   "cell_type": "code",
   "execution_count": 55,
   "id": "856b1d10-0287-4d35-a272-2600f24dc38c",
   "metadata": {},
   "outputs": [],
   "source": [
    "recipe['recipe_date_soumission'] = recipe['submitted'].str.split(\"-\").str[0]\n",
    "#recipe['recipe_date_soumission'].head(3)"
   ]
  },
  {
   "cell_type": "markdown",
   "id": "e1a2cc2f-dc97-4207-b3cd-c0373645609e",
   "metadata": {},
   "source": [
    "### Nombre d'années de soumission de récettes"
   ]
  },
  {
   "cell_type": "code",
   "execution_count": 56,
   "id": "7e699f05-3134-49a2-8bf0-11674114459b",
   "metadata": {},
   "outputs": [
    {
     "name": "stdout",
     "output_type": "stream",
     "text": [
      "Toutes les recettes ont été soumises en 20 ans.\n"
     ]
    }
   ],
   "source": [
    "print(\"Toutes les recettes ont été soumises en\", recipe['recipe_date_soumission'].value_counts().count(), \"ans.\")"
   ]
  },
  {
   "cell_type": "markdown",
   "id": "b02a4818-dfcd-46c6-890b-36ba8a3f0c2e",
   "metadata": {},
   "source": [
    "### L'année où  il y'a eu la plus forte soumission..."
   ]
  },
  {
   "cell_type": "code",
   "execution_count": 57,
   "id": "51251afd-d73c-4f2e-94a5-d7d47966c18e",
   "metadata": {},
   "outputs": [
    {
     "name": "stdout",
     "output_type": "stream",
     "text": [
      "C'est en 2007 qu'il y'a eu un très grand nombre de soumission de récettes.\n",
      "La quantité de récette soumise s'élève à 34195\n"
     ]
    }
   ],
   "source": [
    "print(\"C'est en\", recipe['recipe_date_soumission'].value_counts().index[0], \"qu'il y'a eu un très grand nombre de soumission de récettes.\")\n",
    "print(\"La quantité de récette soumise s'élève à\", recipe['recipe_date_soumission'].value_counts()[0])"
   ]
  },
  {
   "cell_type": "markdown",
   "id": "7d00af09-9087-499b-9fa0-aae56e9aebb4",
   "metadata": {},
   "source": [
    "### L'année où  il y'a eu la plus faible soumission..."
   ]
  },
  {
   "cell_type": "code",
   "execution_count": 58,
   "id": "f24f0db1-971b-4d81-a739-98d9c54fc503",
   "metadata": {},
   "outputs": [
    {
     "name": "stdout",
     "output_type": "stream",
     "text": [
      "C'est en 2018 qu'il y'a eu une très faible soumission de récettes.\n",
      "La quantité de récette soumise cette année s'élève à 189\n"
     ]
    }
   ],
   "source": [
    "print(\"C'est en\", recipe['recipe_date_soumission'].value_counts().index[19], \"qu'il y'a eu une très faible soumission de récettes.\")\n",
    "print(\"La quantité de récette soumise cette année s'élève à\", recipe['recipe_date_soumission'].value_counts()[19])"
   ]
  },
  {
   "cell_type": "markdown",
   "id": "57fdea0f-7fd5-4fb5-ac06-e918df98d92d",
   "metadata": {},
   "source": [
    "### Diagramme en barre : quantité de récette soumise Vs année"
   ]
  },
  {
   "cell_type": "code",
   "execution_count": 59,
   "id": "37c52007-8f1f-4f3a-8ad9-074f959b7406",
   "metadata": {},
   "outputs": [],
   "source": [
    "# On fait un diagramme en barre du nombre de soumission réalisé par année"
   ]
  },
  {
   "cell_type": "code",
   "execution_count": 60,
   "id": "7aaf285e-657c-4470-ba99-c69976b44043",
   "metadata": {},
   "outputs": [
    {
     "data": {
      "text/plain": [
       "Index(['2007', '2008', '2006', '2005', '2009', '2002', '2003', '2004', '2010',\n",
       "       '2011', '2012', '2001', '2013', '1999', '2014', '2000', '2015', '2017',\n",
       "       '2016', '2018'],\n",
       "      dtype='object')"
      ]
     },
     "execution_count": 60,
     "metadata": {},
     "output_type": "execute_result"
    }
   ],
   "source": [
    "recipe['recipe_date_soumission'].value_counts().index"
   ]
  },
  {
   "cell_type": "code",
   "execution_count": 61,
   "id": "d2c27ffe-5e70-4dfc-bf26-e8e64006630c",
   "metadata": {},
   "outputs": [
    {
     "data": {
      "image/png": "[encoded data removed]",
      "text/plain": [
       "<Figure size 600x600 with 1 Axes>"
      ]
     },
     "metadata": {},
     "output_type": "display_data"
    }
   ],
   "source": [
    "plt.figure(figsize =(6, 6))\n",
    "date_soumission = recipe['recipe_date_soumission'].value_counts()\n",
    "labels = recipe['recipe_date_soumission'].value_counts().index\n",
    "xs = [i + 0.1 for i, _ in enumerate(labels)]\n",
    "plt.bar(xs, date_soumission)\n",
    "plt.xticks([i + 0.1 for i, _ in enumerate(labels)], labels, rotation=90)\n",
    "plt.title(\"Année de soumission\")\n",
    "plt.xlabel(\"Année\")\n",
    "plt.ylabel(\"Quantité de recettes\")\n",
    "plt.show()"
   ]
  },
  {
   "cell_type": "markdown",
   "id": "373c7f91-4091-4622-a0f7-4c022cc5ecf7",
   "metadata": {
    "tags": []
   },
   "source": [
    "## <span style='color:Blue'> Partie 4: Analyse Bivariée  </span>"
   ]
  },
  {
   "cell_type": "code",
   "execution_count": 62,
   "id": "afcb7f64-29f7-4ef1-85ea-14181bdc88ff",
   "metadata": {},
   "outputs": [],
   "source": [
    "# D'abord on crée 7 nouvelles variables quantitatives en splittant la variable \"nutrition\". "
   ]
  },
  {
   "cell_type": "code",
   "execution_count": 63,
   "id": "8c60119d-73cc-4fbf-b551-c063dafb4d0b",
   "metadata": {},
   "outputs": [],
   "source": [
    "# Elles s'appellent :'calories','total_fat','sugar','sodium','protein','saturated_fat','carbohydrates'\n",
    "recipe[['calories','total_fat','sugar','sodium','protein','saturated_fat','carbohydrates']] = recipe.nutrition.str.split(\",\",expand=True) "
   ]
  },
  {
   "cell_type": "code",
   "execution_count": 64,
   "id": "85079182-dcc8-4c68-b120-e74de76d5003",
   "metadata": {},
   "outputs": [],
   "source": [
    "recipe['calories'] =  recipe['calories'].apply(lambda x: x.replace('[',''))\n",
    "recipe['carbohydrates'] = recipe['carbohydrates'].apply(lambda x: x.replace(']',''))"
   ]
  },
  {
   "cell_type": "code",
   "execution_count": 65,
   "id": "baba56a3-4348-4bb2-9b3f-f3ed5fe177fb",
   "metadata": {},
   "outputs": [],
   "source": [
    "# Ce 7 nouvelles variables sont de type \"float\"\n",
    "recipe[['calories','total_fat','sugar','sodium','protein','saturated_fat','carbohydrates']] = recipe[['calories','total_fat','sugar','sodium','protein','saturated_fat','carbohydrates']].astype('float')"
   ]
  },
  {
   "cell_type": "code",
   "execution_count": 66,
   "id": "d8c2e6a1",
   "metadata": {},
   "outputs": [
    {
     "data": {
      "text/plain": [
       "Index(['name', 'id', 'minutes', 'contributor_id', 'submitted', 'tags',\n",
       "       'nutrition', 'n_steps', 'steps', 'description', 'ingredients',\n",
       "       'n_ingredients', 'recipe_date_soumission', 'calories', 'total_fat',\n",
       "       'sugar', 'sodium', 'protein', 'saturated_fat', 'carbohydrates'],\n",
       "      dtype='object')"
      ]
     },
     "execution_count": 66,
     "metadata": {},
     "output_type": "execute_result"
    }
   ],
   "source": [
    "recipe.columns"
   ]
  },
  {
   "cell_type": "code",
   "execution_count": 67,
   "id": "8a7999b1-2bde-4812-9810-0f4136c621c5",
   "metadata": {},
   "outputs": [
    {
     "data": {
      "text/html": [
       "<div>\n",
       "<style scoped>\n",
       "    .dataframe tbody tr th:only-of-type {\n",
       "        vertical-align: middle;\n",
       "    }\n",
       "\n",
       "    .dataframe tbody tr th {\n",
       "        vertical-align: top;\n",
       "    }\n",
       "\n",
       "    .dataframe thead th {\n",
       "        text-align: right;\n",
       "    }\n",
       "</style>\n",
       "<table border=\"1\" class=\"dataframe\">\n",
       "  <thead>\n",
       "    <tr style=\"text-align: right;\">\n",
       "      <th></th>\n",
       "      <th>id</th>\n",
       "      <th>contributor_id</th>\n",
       "      <th>name</th>\n",
       "      <th>minutes</th>\n",
       "      <th>n_steps</th>\n",
       "      <th>n_ingredients</th>\n",
       "      <th>calories</th>\n",
       "      <th>total_fat</th>\n",
       "      <th>sugar</th>\n",
       "      <th>sodium</th>\n",
       "      <th>protein</th>\n",
       "      <th>saturated_fat</th>\n",
       "      <th>carbohydrates</th>\n",
       "    </tr>\n",
       "  </thead>\n",
       "  <tbody>\n",
       "    <tr>\n",
       "      <th>0</th>\n",
       "      <td>137739</td>\n",
       "      <td>47892</td>\n",
       "      <td>arriba   baked winter squash mexican style</td>\n",
       "      <td>55</td>\n",
       "      <td>11</td>\n",
       "      <td>7</td>\n",
       "      <td>51.5</td>\n",
       "      <td>0.0</td>\n",
       "      <td>13.0</td>\n",
       "      <td>0.0</td>\n",
       "      <td>2.0</td>\n",
       "      <td>0.0</td>\n",
       "      <td>4.0</td>\n",
       "    </tr>\n",
       "  </tbody>\n",
       "</table>\n",
       "</div>"
      ],
      "text/plain": [
       "       id  contributor_id                                        name  \\\n",
       "0  137739           47892  arriba   baked winter squash mexican style   \n",
       "\n",
       "   minutes  n_steps  n_ingredients  calories  total_fat  sugar  sodium  \\\n",
       "0       55       11              7      51.5        0.0   13.0     0.0   \n",
       "\n",
       "   protein  saturated_fat  carbohydrates  \n",
       "0      2.0            0.0            4.0  "
      ]
     },
     "execution_count": 67,
     "metadata": {},
     "output_type": "execute_result"
    }
   ],
   "source": [
    "# On crée une data ne comportant que les variables quantitatives de \"recipe\" en plus de 7 nouvelles crées juste au-dessus\n",
    "data = recipe[['id', 'contributor_id', 'name', 'minutes', 'n_steps','n_ingredients', 'calories', 'total_fat', 'sugar', 'sodium', 'protein','saturated_fat', 'carbohydrates']]\n",
    "data.head(1)"
   ]
  },
  {
   "cell_type": "code",
   "execution_count": null,
   "id": "bc82f055-e4bf-4fa3-8165-66a02d8baa7e",
   "metadata": {},
   "outputs": [],
   "source": []
  },
  {
   "cell_type": "code",
   "execution_count": 68,
   "id": "d73b8eea-6e5e-4117-91b8-f6806ef2fe64",
   "metadata": {},
   "outputs": [
    {
     "name": "stderr",
     "output_type": "stream",
     "text": [
      "C:\\Users\\PC\\AppData\\Local\\Temp\\ipykernel_7612\\3310276329.py:1: FutureWarning: The default value of numeric_only in DataFrame.corr is deprecated. In a future version, it will default to False. Select only valid columns or specify the value of numeric_only to silence this warning.\n",
      "  sns.heatmap(round(data.drop(['id', 'contributor_id', 'n_steps'], axis=1).corr(), 2), cmap='coolwarm', annot=True)\n"
     ]
    },
    {
     "data": {
      "text/plain": [
       "<Axes: >"
      ]
     },
     "execution_count": 68,
     "metadata": {},
     "output_type": "execute_result"
    },
    {
     "data": {
      "image/png": "[encoded data removed]",
      "text/plain": [
       "<Figure size 640x480 with 2 Axes>"
      ]
     },
     "metadata": {},
     "output_type": "display_data"
    }
   ],
   "source": [
    "sns.heatmap(round(data.drop(['id', 'contributor_id', 'n_steps'], axis=1).corr(), 2), cmap='coolwarm', annot=True)"
   ]
  },
  {
   "cell_type": "raw",
   "id": "e1e6bd98-43f2-4f3d-9f08-810e801fb28b",
   "metadata": {},
   "source": [
    "On note une corrélation positive entre les variables ci-dessous :\n",
    "# cor(sugar, calories)                      # cor(sugar, carbohydrates)\n",
    "# cor(calories, carbohydrates)              # cor(total_fat, saturated_fat)"
   ]
  },
  {
   "cell_type": "markdown",
   "id": "b7f6c35e-04c7-4e33-8fd9-90819a2f4618",
   "metadata": {},
   "source": [
    "## Représentation Graphique"
   ]
  },
  {
   "cell_type": "code",
   "execution_count": 69,
   "id": "021fb1c3-5254-4ab7-9d95-4b62aeb2dc43",
   "metadata": {},
   "outputs": [
    {
     "data": {
      "image/png": "[encoded data removed]",
      "text/plain": [
       "<Figure size 640x480 with 6 Axes>"
      ]
     },
     "metadata": {},
     "output_type": "display_data"
    }
   ],
   "source": [
    "# Espacer les figures\n",
    "plt.gcf().subplots_adjust(left = 0.125, bottom = 0.2, right = 1.5, top = 0.9, wspace = 0.5, hspace = 0)\n",
    "\n",
    "# Figure 1 entre recipe['carbohydrates'], recipe['calories']\n",
    "# plt.figure(figsize=(4,4))\n",
    "plt.subplot(1,3,1)\n",
    "plt.scatter(recipe['calories'], recipe['carbohydrates'])\n",
    "plt.xlabel(\"calories\")\n",
    "plt.ylabel(\"carbohydrates\")\n",
    "plt.xscale('log') #l'axe des ordonnees en échelle logarithmique \n",
    "plt.yscale('log') #l'axe des ordonnees en échelle logarithmique \n",
    "plt.title(\"Calories vs Carbohydrates\")\n",
    "plt.colorbar()\n",
    "\n",
    "# Figure 2 entre recipe['carbohydrates'], recipe['calories']\n",
    "# plt.figure(2,figsize=(4,4))\n",
    "plt.subplot(1,3,2)\n",
    "plt.scatter(recipe['calories'], recipe['sugar'])\n",
    "plt.xlabel(\"calories\")\n",
    "plt.ylabel(\"sugar\")\n",
    "plt.xscale('log') #l'axe des ordonnees en échelle logarithmique \n",
    "plt.yscale('log') #l'axe des ordonnees en échelle logarithmique \n",
    "plt.title(\"Calories vs Sugar\")\n",
    "plt.colorbar()\n",
    "\n",
    "# Figure 3 entre recipe['sugar'], recipe['calories']\n",
    "# plt.figure(3, figsize=(4,4))\n",
    "plt.subplot(1,3,3)\n",
    "plt.scatter(recipe['sugar'], recipe['carbohydrates'])\n",
    "plt.xlabel(\"sugar\")\n",
    "plt.ylabel(\"carbohydrates\")\n",
    "plt.xscale('log') #l'axe des ordonnees en échelle logarithmique \n",
    "plt.yscale('log') #l'axe des ordonnees en échelle logarithmique \n",
    "plt.title(\"Sugar vs Carbohydrates\")\n",
    "plt.colorbar()\n",
    "\n",
    "plt.show()"
   ]
  },
  {
   "cell_type": "code",
   "execution_count": null,
   "id": "051d8b35",
   "metadata": {},
   "outputs": [],
   "source": []
  },
  {
   "cell_type": "code",
   "execution_count": null,
   "id": "f8041e44-7f42-41bd-aca6-2ea8cc3eda18",
   "metadata": {},
   "outputs": [],
   "source": []
  },
  {
   "cell_type": "code",
   "execution_count": null,
   "id": "c5e7a2ce-8b19-45a6-ac79-ff955f52ed55",
   "metadata": {},
   "outputs": [],
   "source": []
  },
  {
   "cell_type": "code",
   "execution_count": null,
   "id": "2d2b9789-4085-4b23-a539-1359e18d681b",
   "metadata": {},
   "outputs": [],
   "source": []
  },
  {
   "cell_type": "code",
   "execution_count": null,
   "id": "deae5974-2082-464e-84c8-8e7114e91dae",
   "metadata": {},
   "outputs": [],
   "source": []
  },
  {
   "cell_type": "code",
   "execution_count": null,
   "id": "40473937-f8bc-4d7f-a427-096d54130ecb",
   "metadata": {},
   "outputs": [],
   "source": []
  },
  {
   "cell_type": "code",
   "execution_count": null,
   "id": "0b5010e5-7914-45a2-9fd5-7f2beaeb20e9",
   "metadata": {},
   "outputs": [],
   "source": []
  },
  {
   "cell_type": "code",
   "execution_count": null,
   "id": "8065c079-71ef-4ffd-8fa3-58f0dbedd633",
   "metadata": {},
   "outputs": [],
   "source": []
  },
  {
   "cell_type": "code",
   "execution_count": null,
   "id": "bf51ff0a-2361-4858-a497-b14ffe36fb24",
   "metadata": {},
   "outputs": [],
   "source": []
  },
  {
   "cell_type": "code",
   "execution_count": null,
   "id": "acc8a19b-dcd9-4d7d-be4a-e0193095e44a",
   "metadata": {},
   "outputs": [],
   "source": []
  },
  {
   "cell_type": "code",
   "execution_count": null,
   "id": "66131a26-f040-47c4-9312-208f642d281f",
   "metadata": {},
   "outputs": [],
   "source": []
  }
 ],
 "metadata": {
  "kernelspec": {
   "display_name": "Python 3 (ipykernel)",
   "language": "python",
   "name": "python3"
  },
  "language_info": {
   "codemirror_mode": {
    "name": "ipython",
    "version": 3
   },
   "file_extension": ".py",
   "mimetype": "text/x-python",
   "name": "python",
   "nbconvert_exporter": "python",
   "pygments_lexer": "ipython3",
   "version": "3.11.4"
  }
 },
 "nbformat": 4,
 "nbformat_minor": 5
}
